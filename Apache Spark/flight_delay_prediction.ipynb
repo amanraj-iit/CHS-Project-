{
  "nbformat": 4,
  "nbformat_minor": 0,
  "metadata": {
    "colab": {
      "name": "flight delay prediction.ipynb",
      "provenance": [],
      "collapsed_sections": [],
      "authorship_tag": "ABX9TyMm+LcJl29pm1uduW0ufVhh",
      "include_colab_link": true
    },
    "kernelspec": {
      "name": "python3",
      "display_name": "Python 3"
    },
    "language_info": {
      "name": "python"
    }
  },
  "cells": [
    {
      "cell_type": "markdown",
      "metadata": {
        "id": "view-in-github",
        "colab_type": "text"
      },
      "source": [
        "<a href=\"https://colab.research.google.com/github/ashish-3916/academic_nsut/blob/main/sem%206/computer%20H-S/Apache%20Sparks/flight_delay_prediction.ipynb\" target=\"_parent\"><img src=\"https://colab.research.google.com/assets/colab-badge.svg\" alt=\"Open In Colab\"/></a>"
      ]
    },
    {
      "cell_type": "code",
      "execution_count": null,
      "metadata": {
        "colab": {
          "base_uri": "https://localhost:8080/"
        },
        "id": "STPa5914urUW",
        "outputId": "1493c186-b655-48aa-b888-1110ef603b65"
      },
      "outputs": [
        {
          "output_type": "stream",
          "name": "stdout",
          "text": [
            "Collecting pyspark\n",
            "  Downloading pyspark-3.2.1.tar.gz (281.4 MB)\n",
            "\u001b[K     |████████████████████████████████| 281.4 MB 36 kB/s \n",
            "\u001b[?25hCollecting py4j==0.10.9.3\n",
            "  Downloading py4j-0.10.9.3-py2.py3-none-any.whl (198 kB)\n",
            "\u001b[K     |████████████████████████████████| 198 kB 31.1 MB/s \n",
            "\u001b[?25hBuilding wheels for collected packages: pyspark\n",
            "  Building wheel for pyspark (setup.py) ... \u001b[?25l\u001b[?25hdone\n",
            "  Created wheel for pyspark: filename=pyspark-3.2.1-py2.py3-none-any.whl size=281853642 sha256=815449440bb14b2076eb691e255dbe0babdf25587939655f0eda7e1e7af81a15\n",
            "  Stored in directory: /root/.cache/pip/wheels/9f/f5/07/7cd8017084dce4e93e84e92efd1e1d5334db05f2e83bcef74f\n",
            "Successfully built pyspark\n",
            "Installing collected packages: py4j, pyspark\n",
            "Successfully installed py4j-0.10.9.3 pyspark-3.2.1\n"
          ]
        }
      ],
      "source": [
        "pip install pyspark"
      ]
    },
    {
      "cell_type": "code",
      "source": [
        "import pyspark\n",
        "from pyspark import SparkContext\n",
        "from pyspark.sql import SQLContext\n",
        "from pyspark.sql.functions import col\n",
        "\n",
        "sc = SparkContext.getOrCreate()\n",
        "sqlCtx = SQLContext(sc)"
      ],
      "metadata": {
        "colab": {
          "base_uri": "https://localhost:8080/"
        },
        "id": "99Z1Ozn4uy3x",
        "outputId": "273a7837-ac98-4fed-d20a-d9ed8271608c"
      },
      "execution_count": null,
      "outputs": [
        {
          "output_type": "stream",
          "name": "stderr",
          "text": [
            "/usr/local/lib/python3.7/dist-packages/pyspark/sql/context.py:79: FutureWarning: Deprecated in 3.0.0. Use SparkSession.builder.getOrCreate() instead.\n",
            "  FutureWarning\n"
          ]
        }
      ]
    },
    {
      "cell_type": "code",
      "source": [
        "import pandas as pd\n",
        "from matplotlib import pyplot as plt\n",
        "import numpy as np\n",
        "from pyspark.sql.functions import col\n",
        "from pyspark.ml.feature import VectorAssembler \n",
        "from pyspark.mllib.linalg import Vectors\n",
        "from pyspark.mllib.regression import LabeledPoint\n",
        "from pyspark.sql.types import DoubleType\n",
        "from pyspark.ml import Pipeline\n",
        "from pyspark.ml.feature import OneHotEncoder"
      ],
      "metadata": {
        "id": "gT_2Bfr4vCdo"
      },
      "execution_count": null,
      "outputs": []
    },
    {
      "cell_type": "code",
      "source": [
        "flights_df = pd.read_csv(\"flight.csv\")"
      ],
      "metadata": {
        "id": "1uDWIrUGvFen"
      },
      "execution_count": null,
      "outputs": []
    },
    {
      "cell_type": "code",
      "source": [
        "flights_df.isnull().sum()"
      ],
      "metadata": {
        "colab": {
          "base_uri": "https://localhost:8080/"
        },
        "id": "8HCvbN8GwfWG",
        "outputId": "c0c0c36a-2d40-4f90-bd46-474ddc8a0ef2"
      },
      "execution_count": null,
      "outputs": [
        {
          "output_type": "execute_result",
          "data": {
            "text/plain": [
              "YEAR                      0\n",
              "MONTH                     0\n",
              "DAY                       0\n",
              "DAY_OF_WEEK               0\n",
              "AIRLINE                   0\n",
              "FLIGHT_NUMBER             0\n",
              "TAIL_NUMBER              13\n",
              "ORIGIN_AIRPORT            0\n",
              "DESTINATION_AIRPORT       0\n",
              "SCHEDULED_DEPARTURE       0\n",
              "DEPARTURE_TIME          388\n",
              "DEPARTURE_DELAY         388\n",
              "TAXI_OUT                389\n",
              "WHEELS_OFF              389\n",
              "SCHEDULED_TIME            0\n",
              "ELAPSED_TIME            407\n",
              "AIR_TIME                407\n",
              "DISTANCE                  0\n",
              "WHEELS_ON               395\n",
              "TAXI_IN                 395\n",
              "SCHEDULED_ARRIVAL         0\n",
              "ARRIVAL_TIME            395\n",
              "ARRIVAL_DELAY           407\n",
              "DIVERTED                  0\n",
              "CANCELLED                 0\n",
              "CANCELLATION_REASON    9607\n",
              "AIR_SYSTEM_DELAY       8272\n",
              "SECURITY_DELAY         8272\n",
              "AIRLINE_DELAY          8272\n",
              "LATE_AIRCRAFT_DELAY    8272\n",
              "WEATHER_DELAY          8272\n",
              "dtype: int64"
            ]
          },
          "metadata": {},
          "execution_count": 5
        }
      ]
    },
    {
      "cell_type": "code",
      "source": [
        "flights_agg = flights_df[['MONTH','DAY','DAY_OF_WEEK','AIRLINE','ORIGIN_AIRPORT',\n",
        "                          'SCHEDULED_DEPARTURE','SCHEDULED_TIME',\n",
        "                          'DISTANCE','SCHEDULED_ARRIVAL','DEPARTURE_DELAY']].copy()\n",
        "flights_agg = flights_agg.dropna(axis=0, how = \"any\")"
      ],
      "metadata": {
        "id": "ZeBTpakowhX7"
      },
      "execution_count": null,
      "outputs": []
    },
    {
      "cell_type": "code",
      "source": [
        "flights_agg.isnull().sum()"
      ],
      "metadata": {
        "colab": {
          "base_uri": "https://localhost:8080/"
        },
        "id": "xpB9ziUiwk29",
        "outputId": "884b1c7a-880d-4924-d9fa-f6eda89ec3ee"
      },
      "execution_count": null,
      "outputs": [
        {
          "output_type": "execute_result",
          "data": {
            "text/plain": [
              "MONTH                  0\n",
              "DAY                    0\n",
              "DAY_OF_WEEK            0\n",
              "AIRLINE                0\n",
              "ORIGIN_AIRPORT         0\n",
              "SCHEDULED_DEPARTURE    0\n",
              "SCHEDULED_TIME         0\n",
              "DISTANCE               0\n",
              "SCHEDULED_ARRIVAL      0\n",
              "DEPARTURE_DELAY        0\n",
              "dtype: int64"
            ]
          },
          "metadata": {},
          "execution_count": 7
        }
      ]
    },
    {
      "cell_type": "code",
      "source": [
        "flights_agg['DELAY'] = np.where(flights_agg['DEPARTURE_DELAY'] <= 0, 0, 1)"
      ],
      "metadata": {
        "id": "Vm-W_Q1pwnhL"
      },
      "execution_count": null,
      "outputs": []
    },
    {
      "cell_type": "code",
      "source": [
        "no_delay = (flights_agg['DELAY'] == 0).sum()\n",
        "nobs = len(flights_agg['DELAY'])\n",
        "no_delay_perc = float(no_delay)/nobs\n",
        "delay_perc = 1 - no_delay_perc\n",
        "print(no_delay_perc, delay_perc)"
      ],
      "metadata": {
        "colab": {
          "base_uri": "https://localhost:8080/"
        },
        "id": "drdE-9ocwwsX",
        "outputId": "e1bfe3e6-5b98-484b-c91b-1ba720a94a48"
      },
      "execution_count": null,
      "outputs": [
        {
          "output_type": "stream",
          "name": "stdout",
          "text": [
            "0.6097180314223286 0.3902819685776714\n"
          ]
        }
      ]
    },
    {
      "cell_type": "code",
      "source": [
        "delay = nobs - no_delay\n",
        "no_delay_indices = flights_agg[flights_agg.DELAY == 0].index\n",
        "#undersamples no delays to equal same number of delays\n",
        "np.random.seed(5)\n",
        "random_indices = np.random.choice(no_delay_indices, delay, replace=False) \n",
        "no_delay_sample = flights_agg.loc[random_indices]"
      ],
      "metadata": {
        "id": "LsjQMxBgwyQc"
      },
      "execution_count": null,
      "outputs": []
    },
    {
      "cell_type": "code",
      "source": [
        "no_delay_sample[:10]"
      ],
      "metadata": {
        "colab": {
          "base_uri": "https://localhost:8080/",
          "height": 363
        },
        "id": "CVDW11FZw0Ug",
        "outputId": "70078285-db68-41d6-c45b-889a881d4ce5"
      },
      "execution_count": null,
      "outputs": [
        {
          "output_type": "execute_result",
          "data": {
            "text/plain": [
              "      MONTH  DAY  DAY_OF_WEEK AIRLINE ORIGIN_AIRPORT  SCHEDULED_DEPARTURE  \\\n",
              "1781      1    1            4      WN            JAX                  810   \n",
              "3774      1    1            4      WN            BOI                 1030   \n",
              "4679      1    1            4      US            CLT                 1130   \n",
              "3506      1    1            4      DL            LAX                 1010   \n",
              "8837      1    1            4      OO            DTW                 1550   \n",
              "7662      1    1            4      EV            JAN                 1436   \n",
              "65        1    1            4      NK            BOS                  510   \n",
              "60        1    1            4      HA            HNL                  502   \n",
              "9992      1    1            4      HA            LAX                 1705   \n",
              "8270      1    1            4      DL            ATL                 1515   \n",
              "\n",
              "      SCHEDULED_TIME  DISTANCE  SCHEDULED_ARRIVAL  DEPARTURE_DELAY  DELAY  \n",
              "1781              70       270                920             -5.0      0  \n",
              "3774              70       287               1040             -4.0      0  \n",
              "4679              84       361               1254             -6.0      0  \n",
              "3506             110       590               1300              0.0      0  \n",
              "8837              76       229               1706             -1.0      0  \n",
              "7662             134       677               1650             -1.0      0  \n",
              "65               140       738                730             -4.0      0  \n",
              "60                42       163                544             -1.0      0  \n",
              "9992             350      2556               2055             -3.0      0  \n",
              "8270              66       214               1621             -1.0      0  "
            ],
            "text/html": [
              "\n",
              "  <div id=\"df-a0abfa9a-7902-4701-9ca7-77163c90b097\">\n",
              "    <div class=\"colab-df-container\">\n",
              "      <div>\n",
              "<style scoped>\n",
              "    .dataframe tbody tr th:only-of-type {\n",
              "        vertical-align: middle;\n",
              "    }\n",
              "\n",
              "    .dataframe tbody tr th {\n",
              "        vertical-align: top;\n",
              "    }\n",
              "\n",
              "    .dataframe thead th {\n",
              "        text-align: right;\n",
              "    }\n",
              "</style>\n",
              "<table border=\"1\" class=\"dataframe\">\n",
              "  <thead>\n",
              "    <tr style=\"text-align: right;\">\n",
              "      <th></th>\n",
              "      <th>MONTH</th>\n",
              "      <th>DAY</th>\n",
              "      <th>DAY_OF_WEEK</th>\n",
              "      <th>AIRLINE</th>\n",
              "      <th>ORIGIN_AIRPORT</th>\n",
              "      <th>SCHEDULED_DEPARTURE</th>\n",
              "      <th>SCHEDULED_TIME</th>\n",
              "      <th>DISTANCE</th>\n",
              "      <th>SCHEDULED_ARRIVAL</th>\n",
              "      <th>DEPARTURE_DELAY</th>\n",
              "      <th>DELAY</th>\n",
              "    </tr>\n",
              "  </thead>\n",
              "  <tbody>\n",
              "    <tr>\n",
              "      <th>1781</th>\n",
              "      <td>1</td>\n",
              "      <td>1</td>\n",
              "      <td>4</td>\n",
              "      <td>WN</td>\n",
              "      <td>JAX</td>\n",
              "      <td>810</td>\n",
              "      <td>70</td>\n",
              "      <td>270</td>\n",
              "      <td>920</td>\n",
              "      <td>-5.0</td>\n",
              "      <td>0</td>\n",
              "    </tr>\n",
              "    <tr>\n",
              "      <th>3774</th>\n",
              "      <td>1</td>\n",
              "      <td>1</td>\n",
              "      <td>4</td>\n",
              "      <td>WN</td>\n",
              "      <td>BOI</td>\n",
              "      <td>1030</td>\n",
              "      <td>70</td>\n",
              "      <td>287</td>\n",
              "      <td>1040</td>\n",
              "      <td>-4.0</td>\n",
              "      <td>0</td>\n",
              "    </tr>\n",
              "    <tr>\n",
              "      <th>4679</th>\n",
              "      <td>1</td>\n",
              "      <td>1</td>\n",
              "      <td>4</td>\n",
              "      <td>US</td>\n",
              "      <td>CLT</td>\n",
              "      <td>1130</td>\n",
              "      <td>84</td>\n",
              "      <td>361</td>\n",
              "      <td>1254</td>\n",
              "      <td>-6.0</td>\n",
              "      <td>0</td>\n",
              "    </tr>\n",
              "    <tr>\n",
              "      <th>3506</th>\n",
              "      <td>1</td>\n",
              "      <td>1</td>\n",
              "      <td>4</td>\n",
              "      <td>DL</td>\n",
              "      <td>LAX</td>\n",
              "      <td>1010</td>\n",
              "      <td>110</td>\n",
              "      <td>590</td>\n",
              "      <td>1300</td>\n",
              "      <td>0.0</td>\n",
              "      <td>0</td>\n",
              "    </tr>\n",
              "    <tr>\n",
              "      <th>8837</th>\n",
              "      <td>1</td>\n",
              "      <td>1</td>\n",
              "      <td>4</td>\n",
              "      <td>OO</td>\n",
              "      <td>DTW</td>\n",
              "      <td>1550</td>\n",
              "      <td>76</td>\n",
              "      <td>229</td>\n",
              "      <td>1706</td>\n",
              "      <td>-1.0</td>\n",
              "      <td>0</td>\n",
              "    </tr>\n",
              "    <tr>\n",
              "      <th>7662</th>\n",
              "      <td>1</td>\n",
              "      <td>1</td>\n",
              "      <td>4</td>\n",
              "      <td>EV</td>\n",
              "      <td>JAN</td>\n",
              "      <td>1436</td>\n",
              "      <td>134</td>\n",
              "      <td>677</td>\n",
              "      <td>1650</td>\n",
              "      <td>-1.0</td>\n",
              "      <td>0</td>\n",
              "    </tr>\n",
              "    <tr>\n",
              "      <th>65</th>\n",
              "      <td>1</td>\n",
              "      <td>1</td>\n",
              "      <td>4</td>\n",
              "      <td>NK</td>\n",
              "      <td>BOS</td>\n",
              "      <td>510</td>\n",
              "      <td>140</td>\n",
              "      <td>738</td>\n",
              "      <td>730</td>\n",
              "      <td>-4.0</td>\n",
              "      <td>0</td>\n",
              "    </tr>\n",
              "    <tr>\n",
              "      <th>60</th>\n",
              "      <td>1</td>\n",
              "      <td>1</td>\n",
              "      <td>4</td>\n",
              "      <td>HA</td>\n",
              "      <td>HNL</td>\n",
              "      <td>502</td>\n",
              "      <td>42</td>\n",
              "      <td>163</td>\n",
              "      <td>544</td>\n",
              "      <td>-1.0</td>\n",
              "      <td>0</td>\n",
              "    </tr>\n",
              "    <tr>\n",
              "      <th>9992</th>\n",
              "      <td>1</td>\n",
              "      <td>1</td>\n",
              "      <td>4</td>\n",
              "      <td>HA</td>\n",
              "      <td>LAX</td>\n",
              "      <td>1705</td>\n",
              "      <td>350</td>\n",
              "      <td>2556</td>\n",
              "      <td>2055</td>\n",
              "      <td>-3.0</td>\n",
              "      <td>0</td>\n",
              "    </tr>\n",
              "    <tr>\n",
              "      <th>8270</th>\n",
              "      <td>1</td>\n",
              "      <td>1</td>\n",
              "      <td>4</td>\n",
              "      <td>DL</td>\n",
              "      <td>ATL</td>\n",
              "      <td>1515</td>\n",
              "      <td>66</td>\n",
              "      <td>214</td>\n",
              "      <td>1621</td>\n",
              "      <td>-1.0</td>\n",
              "      <td>0</td>\n",
              "    </tr>\n",
              "  </tbody>\n",
              "</table>\n",
              "</div>\n",
              "      <button class=\"colab-df-convert\" onclick=\"convertToInteractive('df-a0abfa9a-7902-4701-9ca7-77163c90b097')\"\n",
              "              title=\"Convert this dataframe to an interactive table.\"\n",
              "              style=\"display:none;\">\n",
              "        \n",
              "  <svg xmlns=\"http://www.w3.org/2000/svg\" height=\"24px\"viewBox=\"0 0 24 24\"\n",
              "       width=\"24px\">\n",
              "    <path d=\"M0 0h24v24H0V0z\" fill=\"none\"/>\n",
              "    <path d=\"M18.56 5.44l.94 2.06.94-2.06 2.06-.94-2.06-.94-.94-2.06-.94 2.06-2.06.94zm-11 1L8.5 8.5l.94-2.06 2.06-.94-2.06-.94L8.5 2.5l-.94 2.06-2.06.94zm10 10l.94 2.06.94-2.06 2.06-.94-2.06-.94-.94-2.06-.94 2.06-2.06.94z\"/><path d=\"M17.41 7.96l-1.37-1.37c-.4-.4-.92-.59-1.43-.59-.52 0-1.04.2-1.43.59L10.3 9.45l-7.72 7.72c-.78.78-.78 2.05 0 2.83L4 21.41c.39.39.9.59 1.41.59.51 0 1.02-.2 1.41-.59l7.78-7.78 2.81-2.81c.8-.78.8-2.07 0-2.86zM5.41 20L4 18.59l7.72-7.72 1.47 1.35L5.41 20z\"/>\n",
              "  </svg>\n",
              "      </button>\n",
              "      \n",
              "  <style>\n",
              "    .colab-df-container {\n",
              "      display:flex;\n",
              "      flex-wrap:wrap;\n",
              "      gap: 12px;\n",
              "    }\n",
              "\n",
              "    .colab-df-convert {\n",
              "      background-color: #E8F0FE;\n",
              "      border: none;\n",
              "      border-radius: 50%;\n",
              "      cursor: pointer;\n",
              "      display: none;\n",
              "      fill: #1967D2;\n",
              "      height: 32px;\n",
              "      padding: 0 0 0 0;\n",
              "      width: 32px;\n",
              "    }\n",
              "\n",
              "    .colab-df-convert:hover {\n",
              "      background-color: #E2EBFA;\n",
              "      box-shadow: 0px 1px 2px rgba(60, 64, 67, 0.3), 0px 1px 3px 1px rgba(60, 64, 67, 0.15);\n",
              "      fill: #174EA6;\n",
              "    }\n",
              "\n",
              "    [theme=dark] .colab-df-convert {\n",
              "      background-color: #3B4455;\n",
              "      fill: #D2E3FC;\n",
              "    }\n",
              "\n",
              "    [theme=dark] .colab-df-convert:hover {\n",
              "      background-color: #434B5C;\n",
              "      box-shadow: 0px 1px 3px 1px rgba(0, 0, 0, 0.15);\n",
              "      filter: drop-shadow(0px 1px 2px rgba(0, 0, 0, 0.3));\n",
              "      fill: #FFFFFF;\n",
              "    }\n",
              "  </style>\n",
              "\n",
              "      <script>\n",
              "        const buttonEl =\n",
              "          document.querySelector('#df-a0abfa9a-7902-4701-9ca7-77163c90b097 button.colab-df-convert');\n",
              "        buttonEl.style.display =\n",
              "          google.colab.kernel.accessAllowed ? 'block' : 'none';\n",
              "\n",
              "        async function convertToInteractive(key) {\n",
              "          const element = document.querySelector('#df-a0abfa9a-7902-4701-9ca7-77163c90b097');\n",
              "          const dataTable =\n",
              "            await google.colab.kernel.invokeFunction('convertToInteractive',\n",
              "                                                     [key], {});\n",
              "          if (!dataTable) return;\n",
              "\n",
              "          const docLinkHtml = 'Like what you see? Visit the ' +\n",
              "            '<a target=\"_blank\" href=https://colab.research.google.com/notebooks/data_table.ipynb>data table notebook</a>'\n",
              "            + ' to learn more about interactive tables.';\n",
              "          element.innerHTML = '';\n",
              "          dataTable['output_type'] = 'display_data';\n",
              "          await google.colab.output.renderOutput(dataTable, element);\n",
              "          const docLink = document.createElement('div');\n",
              "          docLink.innerHTML = docLinkHtml;\n",
              "          element.appendChild(docLink);\n",
              "        }\n",
              "      </script>\n",
              "    </div>\n",
              "  </div>\n",
              "  "
            ]
          },
          "metadata": {},
          "execution_count": 11
        }
      ]
    },
    {
      "cell_type": "code",
      "source": [
        "delay_sample = flights_agg[flights_agg.DELAY == 1] \n",
        "flights_agg_balanced = delay_sample.append(no_delay_sample)"
      ],
      "metadata": {
        "id": "vGoJ6D4uw11T"
      },
      "execution_count": null,
      "outputs": []
    },
    {
      "cell_type": "code",
      "source": [
        "n = int(len(flights_agg_balanced)*0.10)\n",
        "flights_new_bal = flights_agg_balanced.sample(n, random_state = 314)"
      ],
      "metadata": {
        "id": "MIAcuONfw37V"
      },
      "execution_count": null,
      "outputs": []
    },
    {
      "cell_type": "code",
      "source": [
        "no_delay_bal = (flights_new_bal['DELAY'] == 0).sum()\n",
        "no_delay_perc_bal = float(no_delay_bal)/n\n",
        "delay_perc_bal = 1 - no_delay_perc_bal\n",
        "print(no_delay_perc_bal, delay_perc_bal)"
      ],
      "metadata": {
        "colab": {
          "base_uri": "https://localhost:8080/"
        },
        "id": "pHNcFSQdw6EX",
        "outputId": "6c6a18d2-325f-4945-d5ea-5db42dc651cd"
      },
      "execution_count": null,
      "outputs": [
        {
          "output_type": "stream",
          "name": "stdout",
          "text": [
            "0.49733333333333335 0.5026666666666666\n"
          ]
        }
      ]
    },
    {
      "cell_type": "code",
      "source": [
        "flights = pd.read_csv(\"flight.csv\")"
      ],
      "metadata": {
        "id": "MfY6jeoEw75g"
      },
      "execution_count": null,
      "outputs": []
    },
    {
      "cell_type": "code",
      "source": [
        "flight_df = sqlCtx.createDataFrame(flights_new_bal)\n",
        "flight_df.show(5)"
      ],
      "metadata": {
        "colab": {
          "base_uri": "https://localhost:8080/"
        },
        "id": "IHQJCtAAxOzf",
        "outputId": "853e43e0-f514-43ca-d034-9681dca87059"
      },
      "execution_count": null,
      "outputs": [
        {
          "output_type": "stream",
          "name": "stdout",
          "text": [
            "+-----+---+-----------+-------+--------------+-------------------+--------------+--------+-----------------+---------------+-----+\n",
            "|MONTH|DAY|DAY_OF_WEEK|AIRLINE|ORIGIN_AIRPORT|SCHEDULED_DEPARTURE|SCHEDULED_TIME|DISTANCE|SCHEDULED_ARRIVAL|DEPARTURE_DELAY|DELAY|\n",
            "+-----+---+-----------+-------+--------------+-------------------+--------------+--------+-----------------+---------------+-----+\n",
            "|    1|  1|          4|     DL|           ATL|               1539|            74|     259|             1653|           -1.0|    0|\n",
            "|    1|  1|          4|     EV|           RIC|               1047|            53|     100|             1140|           -6.0|    0|\n",
            "|    1|  1|          4|     EV|           IAH|               1032|            67|     216|             1139|           -5.0|    0|\n",
            "|    1|  1|          4|     UA|           EWR|                758|           181|     997|             1059|           -1.0|    0|\n",
            "|    1|  1|          4|     EV|           MCI|                550|           135|     643|              805|           -2.0|    0|\n",
            "+-----+---+-----------+-------+--------------+-------------------+--------------+--------+-----------------+---------------+-----+\n",
            "only showing top 5 rows\n",
            "\n"
          ]
        }
      ]
    },
    {
      "cell_type": "code",
      "source": [
        "flight_df.write.parquet(\"flight_df.parquet\")"
      ],
      "metadata": {
        "id": "83dGlyczxh1C"
      },
      "execution_count": null,
      "outputs": []
    },
    {
      "cell_type": "code",
      "source": [
        "flight_df = sqlCtx.read.parquet(\"flight_df.parquet\")"
      ],
      "metadata": {
        "id": "E8PM8Z48xogk"
      },
      "execution_count": null,
      "outputs": []
    },
    {
      "cell_type": "code",
      "source": [
        "flight_df.show(4)"
      ],
      "metadata": {
        "colab": {
          "base_uri": "https://localhost:8080/"
        },
        "id": "RHxGhPMQxs6e",
        "outputId": "68a0a4b3-cd8f-4e08-c696-d28ec41c97a7"
      },
      "execution_count": null,
      "outputs": [
        {
          "output_type": "stream",
          "name": "stdout",
          "text": [
            "+-----+---+-----------+-------+--------------+-------------------+--------------+--------+-----------------+---------------+-----+\n",
            "|MONTH|DAY|DAY_OF_WEEK|AIRLINE|ORIGIN_AIRPORT|SCHEDULED_DEPARTURE|SCHEDULED_TIME|DISTANCE|SCHEDULED_ARRIVAL|DEPARTURE_DELAY|DELAY|\n",
            "+-----+---+-----------+-------+--------------+-------------------+--------------+--------+-----------------+---------------+-----+\n",
            "|    1|  1|          4|     DL|           ATL|               1539|            74|     259|             1653|           -1.0|    0|\n",
            "|    1|  1|          4|     EV|           RIC|               1047|            53|     100|             1140|           -6.0|    0|\n",
            "|    1|  1|          4|     EV|           IAH|               1032|            67|     216|             1139|           -5.0|    0|\n",
            "|    1|  1|          4|     UA|           EWR|                758|           181|     997|             1059|           -1.0|    0|\n",
            "+-----+---+-----------+-------+--------------+-------------------+--------------+--------+-----------------+---------------+-----+\n",
            "only showing top 4 rows\n",
            "\n"
          ]
        }
      ]
    },
    {
      "cell_type": "code",
      "source": [
        "# Use OneHotEncoder to map categorical variables to binary vectors\n",
        "cat_columns = ['MONTH','DAY','DAY_OF_WEEK']\n",
        "encoders = [OneHotEncoder(inputCol=column, outputCol=column+\"_vec\") for column in cat_columns]\n",
        "pipelineOHE = Pipeline(stages=encoders)\n",
        "flight_df2 = pipelineOHE.fit(flight_df).transform(flight_df)"
      ],
      "metadata": {
        "id": "7TOj3PSkxuqW"
      },
      "execution_count": null,
      "outputs": []
    },
    {
      "cell_type": "code",
      "source": [
        "flight_df2.show(2)"
      ],
      "metadata": {
        "colab": {
          "base_uri": "https://localhost:8080/"
        },
        "id": "KI0WhbxNxwy5",
        "outputId": "31c12304-4e49-43d5-dd7f-3382c076a403"
      },
      "execution_count": null,
      "outputs": [
        {
          "output_type": "stream",
          "name": "stdout",
          "text": [
            "+-----+---+-----------+-------+--------------+-------------------+--------------+--------+-----------------+---------------+-----+---------+---------+---------------+\n",
            "|MONTH|DAY|DAY_OF_WEEK|AIRLINE|ORIGIN_AIRPORT|SCHEDULED_DEPARTURE|SCHEDULED_TIME|DISTANCE|SCHEDULED_ARRIVAL|DEPARTURE_DELAY|DELAY|MONTH_vec|  DAY_vec|DAY_OF_WEEK_vec|\n",
            "+-----+---+-----------+-------+--------------+-------------------+--------------+--------+-----------------+---------------+-----+---------+---------+---------------+\n",
            "|    1|  1|          4|     DL|           ATL|               1539|            74|     259|             1653|           -1.0|    0|(1,[],[])|(1,[],[])|      (4,[],[])|\n",
            "|    1|  1|          4|     EV|           RIC|               1047|            53|     100|             1140|           -6.0|    0|(1,[],[])|(1,[],[])|      (4,[],[])|\n",
            "+-----+---+-----------+-------+--------------+-------------------+--------------+--------+-----------------+---------------+-----+---------+---------+---------------+\n",
            "only showing top 2 rows\n",
            "\n"
          ]
        }
      ]
    },
    {
      "cell_type": "code",
      "source": [
        "assembler = VectorAssembler(inputCols=['MONTH_vec', 'DAY_vec', 'DAY_OF_WEEK_vec',\n",
        "                                       'SCHEDULED_DEPARTURE', 'SCHEDULED_TIME', 'DISTANCE', \n",
        "                                       'SCHEDULED_ARRIVAL'], outputCol=\"features\")"
      ],
      "metadata": {
        "id": "lcr7VoNJxymU"
      },
      "execution_count": null,
      "outputs": []
    },
    {
      "cell_type": "code",
      "source": [
        "# Apply vector assembler to data\n",
        "transformed = assembler.transform(flight_df2)"
      ],
      "metadata": {
        "id": "mDjxJPbkx1Ex"
      },
      "execution_count": null,
      "outputs": []
    },
    {
      "cell_type": "code",
      "source": [
        "transformed.select(['DELAY', 'features']).show(5)"
      ],
      "metadata": {
        "colab": {
          "base_uri": "https://localhost:8080/"
        },
        "id": "QHRVsJ2ex2qh",
        "outputId": "a4e07760-794b-49d3-e655-64bdb3fc783c"
      },
      "execution_count": null,
      "outputs": [
        {
          "output_type": "stream",
          "name": "stdout",
          "text": [
            "+-----+--------------------+\n",
            "|DELAY|            features|\n",
            "+-----+--------------------+\n",
            "|    0|(10,[6,7,8,9],[15...|\n",
            "|    0|(10,[6,7,8,9],[10...|\n",
            "|    0|(10,[6,7,8,9],[10...|\n",
            "|    0|(10,[6,7,8,9],[75...|\n",
            "|    0|(10,[6,7,8,9],[55...|\n",
            "+-----+--------------------+\n",
            "only showing top 5 rows\n",
            "\n"
          ]
        }
      ]
    },
    {
      "cell_type": "code",
      "source": [
        "# Convert to RDD\n",
        "dataRDD = transformed.select(['DELAY','features']).rdd.map(tuple)"
      ],
      "metadata": {
        "id": "AEqybMK9x4V8"
      },
      "execution_count": null,
      "outputs": []
    },
    {
      "cell_type": "code",
      "source": [
        "# Map label to binary values, then convert to LabeledPoint\n",
        "lp = dataRDD.map(lambda row : (0 if row[0] == 0 else 1, Vectors.dense(row[1])))    \\\n",
        "            .map(lambda row : LabeledPoint(row[0], row[1]))"
      ],
      "metadata": {
        "id": "w5gpfzvYx6V-"
      },
      "execution_count": null,
      "outputs": []
    },
    {
      "cell_type": "code",
      "source": [
        "lp.take(5)"
      ],
      "metadata": {
        "colab": {
          "base_uri": "https://localhost:8080/"
        },
        "id": "SnWMSxHQx7_w",
        "outputId": "3689db38-5802-49dd-c1b6-cac425c09cb5"
      },
      "execution_count": null,
      "outputs": [
        {
          "output_type": "execute_result",
          "data": {
            "text/plain": [
              "[LabeledPoint(0.0, [0.0,0.0,0.0,0.0,0.0,0.0,1539.0,74.0,259.0,1653.0]),\n",
              " LabeledPoint(0.0, [0.0,0.0,0.0,0.0,0.0,0.0,1047.0,53.0,100.0,1140.0]),\n",
              " LabeledPoint(0.0, [0.0,0.0,0.0,0.0,0.0,0.0,1032.0,67.0,216.0,1139.0]),\n",
              " LabeledPoint(0.0, [0.0,0.0,0.0,0.0,0.0,0.0,758.0,181.0,997.0,1059.0]),\n",
              " LabeledPoint(0.0, [0.0,0.0,0.0,0.0,0.0,0.0,550.0,135.0,643.0,805.0])]"
            ]
          },
          "metadata": {},
          "execution_count": 30
        }
      ]
    },
    {
      "cell_type": "code",
      "source": [
        "split = lp.randomSplit([0.8, 0.2], 314)\n",
        "training = split[0]\n",
        "test = split[1]"
      ],
      "metadata": {
        "id": "3PfS4Oh9x9RN"
      },
      "execution_count": null,
      "outputs": []
    },
    {
      "cell_type": "markdown",
      "source": [
        "LOGISTIC REGRESSION"
      ],
      "metadata": {
        "id": "B7bgwJoMyRaN"
      }
    },
    {
      "cell_type": "code",
      "source": [
        "from pyspark.mllib.classification import LogisticRegressionWithLBFGS, LogisticRegressionModel"
      ],
      "metadata": {
        "id": "uTWsTbYix_Ud"
      },
      "execution_count": null,
      "outputs": []
    },
    {
      "cell_type": "code",
      "source": [
        "# Build model\n",
        "LR_model = LogisticRegressionWithLBFGS.train(training)"
      ],
      "metadata": {
        "id": "1Wl0pN2gyBJk"
      },
      "execution_count": null,
      "outputs": []
    },
    {
      "cell_type": "code",
      "source": [
        "# Evaluate model on training data\n",
        "LR_LAPtrain = training.map(lambda lp: (float(LR_model.predict(lp.features)), lp.label))"
      ],
      "metadata": {
        "id": "YZwR-TXOyCpt"
      },
      "execution_count": null,
      "outputs": []
    },
    {
      "cell_type": "code",
      "source": [
        "# Print training accuracy\n",
        "LR_accTrain = 1.0 * LR_LAPtrain.filter(lambda x:x[0] == x[1]).count()/training.count()\n",
        "print(LR_accTrain)"
      ],
      "metadata": {
        "colab": {
          "base_uri": "https://localhost:8080/"
        },
        "id": "zjmZTsP_yF-m",
        "outputId": "5813209c-07b7-45b2-e258-f4289e3b25a8"
      },
      "execution_count": null,
      "outputs": [
        {
          "output_type": "stream",
          "name": "stdout",
          "text": [
            "0.5830564784053156\n"
          ]
        }
      ]
    },
    {
      "cell_type": "code",
      "source": [
        "# Evaluate model on test data\n",
        "LR_LAP = test.map(lambda lp: (float(LR_model.predict(lp.features)), lp.label))\n"
      ],
      "metadata": {
        "id": "brLtWwVXyGtX"
      },
      "execution_count": null,
      "outputs": []
    },
    {
      "cell_type": "code",
      "source": [
        "# Print test accuracy\n",
        "LR_acc = 1.0 * LR_LAP.filter(lambda x:x[0] == x[1]).count()/test.count()\n",
        "print(LR_acc)"
      ],
      "metadata": {
        "colab": {
          "base_uri": "https://localhost:8080/"
        },
        "id": "MFLy4_33yI2E",
        "outputId": "f9d43891-6930-4dde-ccde-6a725298e9c3"
      },
      "execution_count": null,
      "outputs": [
        {
          "output_type": "stream",
          "name": "stdout",
          "text": [
            "0.5878378378378378\n"
          ]
        }
      ]
    },
    {
      "cell_type": "markdown",
      "source": [
        "RANDOM FOREST\n"
      ],
      "metadata": {
        "id": "9l9T16ClyMD_"
      }
    },
    {
      "cell_type": "code",
      "source": [
        "from pyspark.mllib.tree import RandomForest, RandomForestModel\n",
        "from pyspark.mllib.util import MLUtils\n",
        "from pyspark.ml.feature import StringIndexer\n",
        "from pyspark.ml.classification import RandomForestClassifier"
      ],
      "metadata": {
        "id": "_oscc1UByKF5"
      },
      "execution_count": null,
      "outputs": []
    },
    {
      "cell_type": "code",
      "source": [
        "# Build model\n",
        "RF_model = RandomForest.trainClassifier(training, numClasses = 2,\n",
        "                                       categoricalFeaturesInfo = {}, \n",
        "                                       numTrees = 5, featureSubsetStrategy = \"auto\", \n",
        "                                       impurity = 'gini', maxDepth = 4, maxBins = 32)"
      ],
      "metadata": {
        "id": "g3KcXQi0yOcJ"
      },
      "execution_count": null,
      "outputs": []
    },
    {
      "cell_type": "code",
      "source": [
        "# Evaluate model on training data\n",
        "RF_predtrain = RF_model.predict(training.map(lambda x: x.features))\n",
        "RF_LAPtrain = training.map(lambda lp: lp.label).zip(RF_predtrain)"
      ],
      "metadata": {
        "id": "bWd60H0KyVom"
      },
      "execution_count": null,
      "outputs": []
    },
    {
      "cell_type": "code",
      "source": [
        "# Print training accuracy\n",
        "RF_trainAcc = RF_LAPtrain.filter(lambda x: x[0] == x[1]).count() / float(training.count())\n",
        "print(RF_trainAcc)"
      ],
      "metadata": {
        "colab": {
          "base_uri": "https://localhost:8080/"
        },
        "id": "nAnnLXe_yXQS",
        "outputId": "ca3fb674-71c6-4a3f-c5ed-44292898802b"
      },
      "execution_count": null,
      "outputs": [
        {
          "output_type": "stream",
          "name": "stdout",
          "text": [
            "0.6710963455149501\n"
          ]
        }
      ]
    },
    {
      "cell_type": "code",
      "source": [
        "# Evaluate model on test data\n",
        "RF_pred = RF_model.predict(test.map(lambda x: x.features))\n",
        "RF_LAP = test.map(lambda lp: lp.label).zip(RF_pred)"
      ],
      "metadata": {
        "id": "RAospaSKyYdA"
      },
      "execution_count": null,
      "outputs": []
    },
    {
      "cell_type": "code",
      "source": [
        "# Print test accuracy\n",
        "RF_testAcc = RF_LAP.filter(lambda x: x[0] == x[1]).count() / float(test.count())\n",
        "print(RF_testAcc)"
      ],
      "metadata": {
        "colab": {
          "base_uri": "https://localhost:8080/"
        },
        "id": "oWRPlydayZ-h",
        "outputId": "77b414e6-caad-4619-d344-9e8b7acf557b"
      },
      "execution_count": null,
      "outputs": [
        {
          "output_type": "stream",
          "name": "stdout",
          "text": [
            "0.5743243243243243\n"
          ]
        }
      ]
    },
    {
      "cell_type": "markdown",
      "source": [
        "CROSS VALIDATION"
      ],
      "metadata": {
        "id": "bUyrlmYbyc_0"
      }
    },
    {
      "cell_type": "code",
      "source": [
        "# Prepare data for modeling\n",
        "flight_cv = transformed.select(['DELAY', 'features'])\n",
        "flight_cv = flight_cv.withColumnRenamed('DELAY', 'label')\n",
        "flight_cv = flight_cv.select(flight_cv.label.cast(DoubleType()).alias('label'), \n",
        "                                 'features')\n",
        "flight_cv.show(5)"
      ],
      "metadata": {
        "colab": {
          "base_uri": "https://localhost:8080/"
        },
        "id": "Oe3EQhSFybfn",
        "outputId": "fb67c4ea-f454-4990-a0df-261fe5f0d8d5"
      },
      "execution_count": null,
      "outputs": [
        {
          "output_type": "stream",
          "name": "stdout",
          "text": [
            "+-----+--------------------+\n",
            "|label|            features|\n",
            "+-----+--------------------+\n",
            "|  0.0|(10,[6,7,8,9],[15...|\n",
            "|  0.0|(10,[6,7,8,9],[10...|\n",
            "|  0.0|(10,[6,7,8,9],[10...|\n",
            "|  0.0|(10,[6,7,8,9],[75...|\n",
            "|  0.0|(10,[6,7,8,9],[55...|\n",
            "+-----+--------------------+\n",
            "only showing top 5 rows\n",
            "\n"
          ]
        }
      ]
    },
    {
      "cell_type": "code",
      "source": [
        "train_cv, test_cv = flight_cv.randomSplit([0.8, 0.2], 314)"
      ],
      "metadata": {
        "id": "wRe4VzJKyfMS"
      },
      "execution_count": null,
      "outputs": []
    },
    {
      "cell_type": "code",
      "source": [
        "from pyspark.ml.classification import LogisticRegression\n",
        "from pyspark.ml.evaluation import BinaryClassificationEvaluator\n",
        "from pyspark.ml.tuning import CrossValidator, ParamGridBuilder"
      ],
      "metadata": {
        "id": "jIu9bwDNyg0C"
      },
      "execution_count": null,
      "outputs": []
    },
    {
      "cell_type": "code",
      "source": [
        "# Build model\n",
        "lr_k = LogisticRegression()"
      ],
      "metadata": {
        "id": "Qj0420-hyjKl"
      },
      "execution_count": null,
      "outputs": []
    },
    {
      "cell_type": "code",
      "source": [
        "# Create grid of parameters\n",
        "grid_k = ParamGridBuilder().addGrid(lr_k.maxIter, [0, 1, 5, 10, 25]) \\\n",
        "                           .addGrid(lr_k.regParam, [0.1,0.01]) \\\n",
        "                           .addGrid(lr_k.fitIntercept, [False, True])\\\n",
        "                           .addGrid(lr_k.elasticNetParam, [0.0,0.3, 0.5,0.8, 1.0])\\\n",
        "                           .build()"
      ],
      "metadata": {
        "id": "tXQhxI6yykaF"
      },
      "execution_count": null,
      "outputs": []
    },
    {
      "cell_type": "code",
      "source": [
        "evaluator_k = BinaryClassificationEvaluator()"
      ],
      "metadata": {
        "id": "BfVrrAzgymDi"
      },
      "execution_count": null,
      "outputs": []
    },
    {
      "cell_type": "code",
      "source": [
        "cv_lr = CrossValidator(estimator = lr_k, estimatorParamMaps = grid_k, evaluator = evaluator_k)"
      ],
      "metadata": {
        "id": "Wu31S9YfynZ4"
      },
      "execution_count": null,
      "outputs": []
    },
    {
      "cell_type": "code",
      "source": [
        "# Run cross-validation\n",
        "cvmodel_lr = cv_lr.fit(train_cv)"
      ],
      "metadata": {
        "id": "ibUoOqciyoxr"
      },
      "execution_count": null,
      "outputs": []
    },
    {
      "cell_type": "code",
      "source": [
        "# Evaluate tuned model on training data\n",
        "evaluator_k.evaluate(cvmodel_lr.transform(train_cv))"
      ],
      "metadata": {
        "colab": {
          "base_uri": "https://localhost:8080/"
        },
        "id": "-jSOVPPsyqEU",
        "outputId": "ad18f549-c5b8-48c8-c4f8-73c2cf54218b"
      },
      "execution_count": null,
      "outputs": [
        {
          "output_type": "execute_result",
          "data": {
            "text/plain": [
              "0.6401938851603286"
            ]
          },
          "metadata": {},
          "execution_count": 52
        }
      ]
    },
    {
      "cell_type": "code",
      "source": [
        "# Evaluate tuned model on test data\n",
        "evaluator_k.evaluate(cvmodel_lr.transform(test_cv))"
      ],
      "metadata": {
        "colab": {
          "base_uri": "https://localhost:8080/"
        },
        "id": "xR5RKLuzyt5i",
        "outputId": "d98af4a9-d8c8-4455-e661-26975bfdb6c6"
      },
      "execution_count": null,
      "outputs": [
        {
          "output_type": "execute_result",
          "data": {
            "text/plain": [
              "0.5960702815038731"
            ]
          },
          "metadata": {},
          "execution_count": 53
        }
      ]
    },
    {
      "cell_type": "code",
      "source": [
        "from pyspark.ml.evaluation import MulticlassClassificationEvaluator\n",
        "from pyspark.ml.feature import VectorIndexer, IndexToString"
      ],
      "metadata": {
        "id": "zCkrClpbywVg"
      },
      "execution_count": null,
      "outputs": []
    },
    {
      "cell_type": "code",
      "source": [
        "labelIndexer = StringIndexer(inputCol = \"label\", \n",
        "                             outputCol = \"indexedLabel\").fit(flight_cv)"
      ],
      "metadata": {
        "id": "LKXUQkf-yykT"
      },
      "execution_count": null,
      "outputs": []
    },
    {
      "cell_type": "code",
      "source": [
        "featureIndexer = VectorIndexer(inputCol=\"features\", \n",
        "                              outputCol=\"indexedFeatures\", \n",
        "                              maxCategories=4).fit(flight_cv)"
      ],
      "metadata": {
        "id": "YtcbTueKy0oC"
      },
      "execution_count": null,
      "outputs": []
    },
    {
      "cell_type": "code",
      "source": [
        "labelConverter = IndexToString(inputCol=\"prediction\",\n",
        "                               outputCol=\"predictedLabel\", \n",
        "                               labels=labelIndexer.labels)"
      ],
      "metadata": {
        "id": "LqF-27toy1WO"
      },
      "execution_count": null,
      "outputs": []
    },
    {
      "cell_type": "code",
      "source": [
        "rf_k = RandomForestClassifier(labelCol = \"indexedLabel\", \n",
        "                              featuresCol = \"indexedFeatures\")"
      ],
      "metadata": {
        "id": "YWO5AP7Ky47l"
      },
      "execution_count": null,
      "outputs": []
    },
    {
      "cell_type": "code",
      "source": [
        "evaluator_rf = MulticlassClassificationEvaluator(labelCol=\"indexedLabel\",\n",
        "                                                 predictionCol=\"prediction\",\n",
        "                                                metricName=\"accuracy\")\n",
        "numFolds = 5"
      ],
      "metadata": {
        "id": "_g62Ea76y8Hi"
      },
      "execution_count": null,
      "outputs": []
    },
    {
      "cell_type": "code",
      "source": [
        "# Create grid of parameters\n",
        "grid_k_rf = ParamGridBuilder().addGrid(rf_k.numTrees, [5,10,25])\\\n",
        "                           .addGrid(rf_k.maxDepth, [3, 5,10,15])\\\n",
        "                           .addGrid(rf_k.maxBins, [5, 10, 20, 30])\\\n",
        "                           .build()"
      ],
      "metadata": {
        "id": "DwwbIVnqy-iI"
      },
      "execution_count": null,
      "outputs": []
    },
    {
      "cell_type": "code",
      "source": [
        "# Create pipeline of transformers and estimators\n",
        "pipeline_rf = Pipeline(stages=[labelIndexer, \n",
        "                               featureIndexer,\n",
        "                               rf_k,\n",
        "                               labelConverter])"
      ],
      "metadata": {
        "id": "ihv6q8pVzBZc"
      },
      "execution_count": null,
      "outputs": []
    },
    {
      "cell_type": "code",
      "source": [
        "# Treat pipeline as estimator in a CrossValidator instance.\n",
        "cv_rf = CrossValidator(estimator = pipeline_rf, \n",
        "                       estimatorParamMaps = grid_k_rf, \n",
        "                       evaluator = evaluator_rf, \n",
        "                       numFolds = numFolds)"
      ],
      "metadata": {
        "id": "Pvpopw_OzEkr"
      },
      "execution_count": null,
      "outputs": []
    },
    {
      "cell_type": "code",
      "source": [
        "# Run cross-validation\n",
        "cvmodel_rf = cv_rf.fit(train_cv)"
      ],
      "metadata": {
        "id": "c7bEDFdtzI6Z"
      },
      "execution_count": null,
      "outputs": []
    },
    {
      "cell_type": "code",
      "source": [
        "# Evaluate tuned model on training data\n",
        "predictions_rf_train = cvmodel_rf.transform(train_cv)\n",
        "evaluator_rf.evaluate(predictions_rf_train)"
      ],
      "metadata": {
        "colab": {
          "base_uri": "https://localhost:8080/"
        },
        "id": "HFWmI_p7zL0b",
        "outputId": "3b528ebd-6e1a-4105-8ab2-084733d6d364"
      },
      "execution_count": null,
      "outputs": [
        {
          "output_type": "execute_result",
          "data": {
            "text/plain": [
              "0.6374172185430463"
            ]
          },
          "metadata": {},
          "execution_count": 64
        }
      ]
    },
    {
      "cell_type": "code",
      "source": [
        "# Evaluate tuned model on test data\n",
        "predictions_rf = cvmodel_rf.transform(test_cv)"
      ],
      "metadata": {
        "id": "jxqhEedlzN0J"
      },
      "execution_count": null,
      "outputs": []
    },
    {
      "cell_type": "code",
      "source": [
        "predictions_rf.select(\"predictedLabel\", \"label\", \"features\").show(5)"
      ],
      "metadata": {
        "colab": {
          "base_uri": "https://localhost:8080/"
        },
        "id": "qy9SEd5vzQpg",
        "outputId": "dc656eb0-7a8d-4888-fcd9-0c22d5674ecf"
      },
      "execution_count": null,
      "outputs": [
        {
          "output_type": "stream",
          "name": "stdout",
          "text": [
            "+--------------+-----+--------------------+\n",
            "|predictedLabel|label|            features|\n",
            "+--------------+-----+--------------------+\n",
            "|           0.0|  0.0|(10,[6,7,8,9],[60...|\n",
            "|           0.0|  0.0|(10,[6,7,8,9],[62...|\n",
            "|           0.0|  0.0|(10,[6,7,8,9],[64...|\n",
            "|           0.0|  0.0|(10,[6,7,8,9],[72...|\n",
            "|           0.0|  0.0|(10,[6,7,8,9],[73...|\n",
            "+--------------+-----+--------------------+\n",
            "only showing top 5 rows\n",
            "\n"
          ]
        }
      ]
    },
    {
      "cell_type": "code",
      "source": [
        "evaluator_rf.evaluate(predictions_rf)"
      ],
      "metadata": {
        "colab": {
          "base_uri": "https://localhost:8080/"
        },
        "id": "7ExAUowlzSdW",
        "outputId": "5cd8497b-176a-4eb2-df98-05f522066265"
      },
      "execution_count": null,
      "outputs": [
        {
          "output_type": "execute_result",
          "data": {
            "text/plain": [
              "0.541095890410959"
            ]
          },
          "metadata": {},
          "execution_count": 67
        }
      ]
    },
    {
      "cell_type": "code",
      "source": [
        "results = pd.DataFrame(data={'Logistic Regression': [0.5898583146905294,0.6129032258064516],\n",
        "                             'Random Forests': [0.6167039522744221,0.5513196480938416],\n",
        "                             },\n",
        "                       index={'Training Accuracy',\n",
        "                              'Test Accuracy'})\n",
        "results"
      ],
      "metadata": {
        "colab": {
          "base_uri": "https://localhost:8080/",
          "height": 112
        },
        "id": "bS-q11agzUsh",
        "outputId": "e59f0c23-5f30-43d0-9a8e-b336f45ed16c"
      },
      "execution_count": null,
      "outputs": [
        {
          "output_type": "execute_result",
          "data": {
            "text/plain": [
              "                   Logistic Regression  Random Forests\n",
              "Test Accuracy                 0.589858        0.616704\n",
              "Training Accuracy             0.612903        0.551320"
            ],
            "text/html": [
              "\n",
              "  <div id=\"df-cb0815ee-e74f-4cb3-9dd2-4c80a98631b4\">\n",
              "    <div class=\"colab-df-container\">\n",
              "      <div>\n",
              "<style scoped>\n",
              "    .dataframe tbody tr th:only-of-type {\n",
              "        vertical-align: middle;\n",
              "    }\n",
              "\n",
              "    .dataframe tbody tr th {\n",
              "        vertical-align: top;\n",
              "    }\n",
              "\n",
              "    .dataframe thead th {\n",
              "        text-align: right;\n",
              "    }\n",
              "</style>\n",
              "<table border=\"1\" class=\"dataframe\">\n",
              "  <thead>\n",
              "    <tr style=\"text-align: right;\">\n",
              "      <th></th>\n",
              "      <th>Logistic Regression</th>\n",
              "      <th>Random Forests</th>\n",
              "    </tr>\n",
              "  </thead>\n",
              "  <tbody>\n",
              "    <tr>\n",
              "      <th>Test Accuracy</th>\n",
              "      <td>0.589858</td>\n",
              "      <td>0.616704</td>\n",
              "    </tr>\n",
              "    <tr>\n",
              "      <th>Training Accuracy</th>\n",
              "      <td>0.612903</td>\n",
              "      <td>0.551320</td>\n",
              "    </tr>\n",
              "  </tbody>\n",
              "</table>\n",
              "</div>\n",
              "      <button class=\"colab-df-convert\" onclick=\"convertToInteractive('df-cb0815ee-e74f-4cb3-9dd2-4c80a98631b4')\"\n",
              "              title=\"Convert this dataframe to an interactive table.\"\n",
              "              style=\"display:none;\">\n",
              "        \n",
              "  <svg xmlns=\"http://www.w3.org/2000/svg\" height=\"24px\"viewBox=\"0 0 24 24\"\n",
              "       width=\"24px\">\n",
              "    <path d=\"M0 0h24v24H0V0z\" fill=\"none\"/>\n",
              "    <path d=\"M18.56 5.44l.94 2.06.94-2.06 2.06-.94-2.06-.94-.94-2.06-.94 2.06-2.06.94zm-11 1L8.5 8.5l.94-2.06 2.06-.94-2.06-.94L8.5 2.5l-.94 2.06-2.06.94zm10 10l.94 2.06.94-2.06 2.06-.94-2.06-.94-.94-2.06-.94 2.06-2.06.94z\"/><path d=\"M17.41 7.96l-1.37-1.37c-.4-.4-.92-.59-1.43-.59-.52 0-1.04.2-1.43.59L10.3 9.45l-7.72 7.72c-.78.78-.78 2.05 0 2.83L4 21.41c.39.39.9.59 1.41.59.51 0 1.02-.2 1.41-.59l7.78-7.78 2.81-2.81c.8-.78.8-2.07 0-2.86zM5.41 20L4 18.59l7.72-7.72 1.47 1.35L5.41 20z\"/>\n",
              "  </svg>\n",
              "      </button>\n",
              "      \n",
              "  <style>\n",
              "    .colab-df-container {\n",
              "      display:flex;\n",
              "      flex-wrap:wrap;\n",
              "      gap: 12px;\n",
              "    }\n",
              "\n",
              "    .colab-df-convert {\n",
              "      background-color: #E8F0FE;\n",
              "      border: none;\n",
              "      border-radius: 50%;\n",
              "      cursor: pointer;\n",
              "      display: none;\n",
              "      fill: #1967D2;\n",
              "      height: 32px;\n",
              "      padding: 0 0 0 0;\n",
              "      width: 32px;\n",
              "    }\n",
              "\n",
              "    .colab-df-convert:hover {\n",
              "      background-color: #E2EBFA;\n",
              "      box-shadow: 0px 1px 2px rgba(60, 64, 67, 0.3), 0px 1px 3px 1px rgba(60, 64, 67, 0.15);\n",
              "      fill: #174EA6;\n",
              "    }\n",
              "\n",
              "    [theme=dark] .colab-df-convert {\n",
              "      background-color: #3B4455;\n",
              "      fill: #D2E3FC;\n",
              "    }\n",
              "\n",
              "    [theme=dark] .colab-df-convert:hover {\n",
              "      background-color: #434B5C;\n",
              "      box-shadow: 0px 1px 3px 1px rgba(0, 0, 0, 0.15);\n",
              "      filter: drop-shadow(0px 1px 2px rgba(0, 0, 0, 0.3));\n",
              "      fill: #FFFFFF;\n",
              "    }\n",
              "  </style>\n",
              "\n",
              "      <script>\n",
              "        const buttonEl =\n",
              "          document.querySelector('#df-cb0815ee-e74f-4cb3-9dd2-4c80a98631b4 button.colab-df-convert');\n",
              "        buttonEl.style.display =\n",
              "          google.colab.kernel.accessAllowed ? 'block' : 'none';\n",
              "\n",
              "        async function convertToInteractive(key) {\n",
              "          const element = document.querySelector('#df-cb0815ee-e74f-4cb3-9dd2-4c80a98631b4');\n",
              "          const dataTable =\n",
              "            await google.colab.kernel.invokeFunction('convertToInteractive',\n",
              "                                                     [key], {});\n",
              "          if (!dataTable) return;\n",
              "\n",
              "          const docLinkHtml = 'Like what you see? Visit the ' +\n",
              "            '<a target=\"_blank\" href=https://colab.research.google.com/notebooks/data_table.ipynb>data table notebook</a>'\n",
              "            + ' to learn more about interactive tables.';\n",
              "          element.innerHTML = '';\n",
              "          dataTable['output_type'] = 'display_data';\n",
              "          await google.colab.output.renderOutput(dataTable, element);\n",
              "          const docLink = document.createElement('div');\n",
              "          docLink.innerHTML = docLinkHtml;\n",
              "          element.appendChild(docLink);\n",
              "        }\n",
              "      </script>\n",
              "    </div>\n",
              "  </div>\n",
              "  "
            ]
          },
          "metadata": {},
          "execution_count": 68
        }
      ]
    },
    {
      "cell_type": "code",
      "source": [
        "results_kfold = pd.DataFrame(data={'Logistic Regression': [0.6401754040204967,0.6146659497244257],\n",
        "                             'Random Forests': [0.7105459985041137,0.5565217391304348],\n",
        "                             },\n",
        "                       index={'Training Accuracy',\n",
        "                              'Test Accuracy'})\n",
        "results_kfold"
      ],
      "metadata": {
        "colab": {
          "base_uri": "https://localhost:8080/",
          "height": 112
        },
        "id": "IIN0VOB5zXm6",
        "outputId": "72461633-63c6-41d4-8999-6f15eb9d0c0f"
      },
      "execution_count": null,
      "outputs": [
        {
          "output_type": "execute_result",
          "data": {
            "text/plain": [
              "                   Logistic Regression  Random Forests\n",
              "Test Accuracy                 0.640175        0.710546\n",
              "Training Accuracy             0.614666        0.556522"
            ],
            "text/html": [
              "\n",
              "  <div id=\"df-efb8ab3c-1f60-4605-b0e2-28d8866af9ab\">\n",
              "    <div class=\"colab-df-container\">\n",
              "      <div>\n",
              "<style scoped>\n",
              "    .dataframe tbody tr th:only-of-type {\n",
              "        vertical-align: middle;\n",
              "    }\n",
              "\n",
              "    .dataframe tbody tr th {\n",
              "        vertical-align: top;\n",
              "    }\n",
              "\n",
              "    .dataframe thead th {\n",
              "        text-align: right;\n",
              "    }\n",
              "</style>\n",
              "<table border=\"1\" class=\"dataframe\">\n",
              "  <thead>\n",
              "    <tr style=\"text-align: right;\">\n",
              "      <th></th>\n",
              "      <th>Logistic Regression</th>\n",
              "      <th>Random Forests</th>\n",
              "    </tr>\n",
              "  </thead>\n",
              "  <tbody>\n",
              "    <tr>\n",
              "      <th>Test Accuracy</th>\n",
              "      <td>0.640175</td>\n",
              "      <td>0.710546</td>\n",
              "    </tr>\n",
              "    <tr>\n",
              "      <th>Training Accuracy</th>\n",
              "      <td>0.614666</td>\n",
              "      <td>0.556522</td>\n",
              "    </tr>\n",
              "  </tbody>\n",
              "</table>\n",
              "</div>\n",
              "      <button class=\"colab-df-convert\" onclick=\"convertToInteractive('df-efb8ab3c-1f60-4605-b0e2-28d8866af9ab')\"\n",
              "              title=\"Convert this dataframe to an interactive table.\"\n",
              "              style=\"display:none;\">\n",
              "        \n",
              "  <svg xmlns=\"http://www.w3.org/2000/svg\" height=\"24px\"viewBox=\"0 0 24 24\"\n",
              "       width=\"24px\">\n",
              "    <path d=\"M0 0h24v24H0V0z\" fill=\"none\"/>\n",
              "    <path d=\"M18.56 5.44l.94 2.06.94-2.06 2.06-.94-2.06-.94-.94-2.06-.94 2.06-2.06.94zm-11 1L8.5 8.5l.94-2.06 2.06-.94-2.06-.94L8.5 2.5l-.94 2.06-2.06.94zm10 10l.94 2.06.94-2.06 2.06-.94-2.06-.94-.94-2.06-.94 2.06-2.06.94z\"/><path d=\"M17.41 7.96l-1.37-1.37c-.4-.4-.92-.59-1.43-.59-.52 0-1.04.2-1.43.59L10.3 9.45l-7.72 7.72c-.78.78-.78 2.05 0 2.83L4 21.41c.39.39.9.59 1.41.59.51 0 1.02-.2 1.41-.59l7.78-7.78 2.81-2.81c.8-.78.8-2.07 0-2.86zM5.41 20L4 18.59l7.72-7.72 1.47 1.35L5.41 20z\"/>\n",
              "  </svg>\n",
              "      </button>\n",
              "      \n",
              "  <style>\n",
              "    .colab-df-container {\n",
              "      display:flex;\n",
              "      flex-wrap:wrap;\n",
              "      gap: 12px;\n",
              "    }\n",
              "\n",
              "    .colab-df-convert {\n",
              "      background-color: #E8F0FE;\n",
              "      border: none;\n",
              "      border-radius: 50%;\n",
              "      cursor: pointer;\n",
              "      display: none;\n",
              "      fill: #1967D2;\n",
              "      height: 32px;\n",
              "      padding: 0 0 0 0;\n",
              "      width: 32px;\n",
              "    }\n",
              "\n",
              "    .colab-df-convert:hover {\n",
              "      background-color: #E2EBFA;\n",
              "      box-shadow: 0px 1px 2px rgba(60, 64, 67, 0.3), 0px 1px 3px 1px rgba(60, 64, 67, 0.15);\n",
              "      fill: #174EA6;\n",
              "    }\n",
              "\n",
              "    [theme=dark] .colab-df-convert {\n",
              "      background-color: #3B4455;\n",
              "      fill: #D2E3FC;\n",
              "    }\n",
              "\n",
              "    [theme=dark] .colab-df-convert:hover {\n",
              "      background-color: #434B5C;\n",
              "      box-shadow: 0px 1px 3px 1px rgba(0, 0, 0, 0.15);\n",
              "      filter: drop-shadow(0px 1px 2px rgba(0, 0, 0, 0.3));\n",
              "      fill: #FFFFFF;\n",
              "    }\n",
              "  </style>\n",
              "\n",
              "      <script>\n",
              "        const buttonEl =\n",
              "          document.querySelector('#df-efb8ab3c-1f60-4605-b0e2-28d8866af9ab button.colab-df-convert');\n",
              "        buttonEl.style.display =\n",
              "          google.colab.kernel.accessAllowed ? 'block' : 'none';\n",
              "\n",
              "        async function convertToInteractive(key) {\n",
              "          const element = document.querySelector('#df-efb8ab3c-1f60-4605-b0e2-28d8866af9ab');\n",
              "          const dataTable =\n",
              "            await google.colab.kernel.invokeFunction('convertToInteractive',\n",
              "                                                     [key], {});\n",
              "          if (!dataTable) return;\n",
              "\n",
              "          const docLinkHtml = 'Like what you see? Visit the ' +\n",
              "            '<a target=\"_blank\" href=https://colab.research.google.com/notebooks/data_table.ipynb>data table notebook</a>'\n",
              "            + ' to learn more about interactive tables.';\n",
              "          element.innerHTML = '';\n",
              "          dataTable['output_type'] = 'display_data';\n",
              "          await google.colab.output.renderOutput(dataTable, element);\n",
              "          const docLink = document.createElement('div');\n",
              "          docLink.innerHTML = docLinkHtml;\n",
              "          element.appendChild(docLink);\n",
              "        }\n",
              "      </script>\n",
              "    </div>\n",
              "  </div>\n",
              "  "
            ]
          },
          "metadata": {},
          "execution_count": 69
        }
      ]
    },
    {
      "cell_type": "code",
      "source": [
        ""
      ],
      "metadata": {
        "id": "f64_2BHq1F5K"
      },
      "execution_count": null,
      "outputs": []
    }
  ]
}