{
  "cells": [
    {
      "cell_type": "markdown",
      "metadata": {
        "id": "9UdhMAHWbypV"
      },
      "source": [
        "# A recommendation system provides suggestions to the users through a filtering process that is based on user preferences and browsing history. The information about the user is taken as an input. The information is taken from the input that is in the form of browsing data. This information reflects the prior usage of the product as well as the assigned ratings. A recommendation system is a platform that provides its users with various contents based on their preferences and likings. A recommendation system takes the information about the user as an input. The recommendation system is an implementation of the machine learning algorithms.\n",
        "\n",
        "> Indented block\n",
        "\n"
      ]
    },
    {
      "cell_type": "markdown",
      "metadata": {
        "id": "xqQmVenmWnI6"
      },
      "source": [
        "# Installing necessary packages"
      ]
    },
    {
      "cell_type": "code",
      "execution_count": null,
      "metadata": {
        "colab": {
          "background_save": true,
          "base_uri": "https://localhost:8080/"
        },
        "id": "i4Xi3wvVvkAm",
        "outputId": "2be091d5-d04a-4ea5-d36e-80ac0621d312"
      },
      "outputs": [
        {
          "name": "stderr",
          "output_type": "stream",
          "text": [
            "Installing package into ‘/usr/local/lib/R/site-library’\n",
            "(as ‘lib’ is unspecified)\n",
            "\n",
            "also installing the dependencies ‘Rcpp’, ‘float’, ‘RcppProgress’, ‘arules’, ‘proxy’, ‘registry’, ‘irlba’, ‘recosystem’, ‘matrixStats’\n",
            "\n",
            "\n",
            "Installing package into ‘/usr/local/lib/R/site-library’\n",
            "(as ‘lib’ is unspecified)\n",
            "\n",
            "Installing package into ‘/usr/local/lib/R/site-library’\n",
            "(as ‘lib’ is unspecified)\n",
            "\n",
            "Installing package into ‘/usr/local/lib/R/site-library’\n",
            "(as ‘lib’ is unspecified)\n",
            "\n",
            "also installing the dependency ‘plyr’\n",
            "\n",
            "\n"
          ]
        }
      ],
      "source": [
        "install.packages(\"recommenderlab\")\n",
        "install.packages(\"ggplot2\")\n",
        "install.packages(\"data.table\")\n",
        "install.packages(\"reshape2\")"
      ]
    },
    {
      "cell_type": "code",
      "execution_count": null,
      "metadata": {
        "colab": {
          "base_uri": "https://localhost:8080/"
        },
        "id": "EqVfkOcj3kt0",
        "outputId": "ee61cffb-ee20-42f0-df69-d0403ac655fc"
      },
      "outputs": [
        {
          "name": "stderr",
          "output_type": "stream",
          "text": [
            "Loading required package: Matrix\n",
            "\n",
            "Loading required package: arules\n",
            "\n",
            "\n",
            "Attaching package: ‘arules’\n",
            "\n",
            "\n",
            "The following object is masked from ‘package:dplyr’:\n",
            "\n",
            "    recode\n",
            "\n",
            "\n",
            "The following objects are masked from ‘package:base’:\n",
            "\n",
            "    abbreviate, write\n",
            "\n",
            "\n",
            "Loading required package: proxy\n",
            "\n",
            "\n",
            "Attaching package: ‘proxy’\n",
            "\n",
            "\n",
            "The following object is masked from ‘package:Matrix’:\n",
            "\n",
            "    as.matrix\n",
            "\n",
            "\n",
            "The following objects are masked from ‘package:stats’:\n",
            "\n",
            "    as.dist, dist\n",
            "\n",
            "\n",
            "The following object is masked from ‘package:base’:\n",
            "\n",
            "    as.matrix\n",
            "\n",
            "\n",
            "Loading required package: registry\n",
            "\n",
            "Registered S3 methods overwritten by 'registry':\n",
            "  method               from \n",
            "  print.registry_field proxy\n",
            "  print.registry_entry proxy\n",
            "\n",
            "\n",
            "Attaching package: ‘data.table’\n",
            "\n",
            "\n",
            "The following objects are masked from ‘package:reshape2’:\n",
            "\n",
            "    dcast, melt\n",
            "\n",
            "\n",
            "The following objects are masked from ‘package:dplyr’:\n",
            "\n",
            "    between, first, last\n",
            "\n",
            "\n"
          ]
        }
      ],
      "source": [
        "library(recommenderlab)\n",
        "library(ggplot2)\n",
        "library(data.table)\n",
        "library(reshape2)"
      ]
    },
    {
      "cell_type": "markdown",
      "metadata": {
        "id": "R5vtaLKQcNTc"
      },
      "source": [
        "We will now retrieve our data from movies.csv into movie_data dataframe and ratings.csv into rating_data. We will use the str() function to display information about the movie_data dataframe."
      ]
    },
    {
      "cell_type": "markdown",
      "metadata": {
        "id": "ujg0JeK_Wr22"
      },
      "source": [
        "# Extracting data"
      ]
    },
    {
      "cell_type": "code",
      "execution_count": null,
      "metadata": {
        "colab": {
          "base_uri": "https://localhost:8080/"
        },
        "id": "nfcNDh4Q4FRP",
        "outputId": "b6f0d6bb-6099-471c-bbc2-f87721aa1bb9"
      },
      "outputs": [
        {
          "name": "stdout",
          "output_type": "stream",
          "text": [
            "'data.frame':\t10329 obs. of  3 variables:\n",
            " $ movieId: int  1 2 3 4 5 6 7 8 9 10 ...\n",
            " $ title  : chr  \"Toy Story (1995)\" \"Jumanji (1995)\" \"Grumpier Old Men (1995)\" \"Waiting to Exhale (1995)\" ...\n",
            " $ genres : chr  \"Adventure|Animation|Children|Comedy|Fantasy\" \"Adventure|Children|Fantasy\" \"Comedy|Romance\" \"Comedy|Drama|Romance\" ...\n"
          ]
        }
      ],
      "source": [
        "movie_data <- read.csv(\"movies.csv\",stringsAsFactors=FALSE)\n",
        "rating_data <- read.csv(\"ratings.csv\")\n",
        "str(movie_data)"
      ]
    },
    {
      "cell_type": "code",
      "execution_count": null,
      "metadata": {
        "colab": {
          "base_uri": "https://localhost:8080/",
          "height": 139
        },
        "id": "ujh9aJ6i4IOS",
        "outputId": "8e76d1d3-3214-4e9f-9368-fe9e71cac32d"
      },
      "outputs": [
        {
          "data": {
            "text/plain": [
              "    movieId          title              genres         \n",
              " Min.   :     1   Length:10329       Length:10329      \n",
              " 1st Qu.:  3240   Class :character   Class :character  \n",
              " Median :  7088   Mode  :character   Mode  :character  \n",
              " Mean   : 31924                                        \n",
              " 3rd Qu.: 59900                                        \n",
              " Max.   :149532                                        "
            ]
          },
          "metadata": {},
          "output_type": "display_data"
        }
      ],
      "source": [
        "summary(movie_data)"
      ]
    },
    {
      "cell_type": "code",
      "execution_count": null,
      "metadata": {
        "colab": {
          "base_uri": "https://localhost:8080/",
          "height": 139
        },
        "id": "2rgzBPVR4Mu8",
        "outputId": "fd4d127e-f0d3-42f0-e472-14759b75a1b9"
      },
      "outputs": [
        {
          "data": {
            "text/plain": [
              "     userId         movieId           rating        timestamp        \n",
              " Min.   :  1.0   Min.   :     1   Min.   :0.500   Min.   :8.286e+08  \n",
              " 1st Qu.:192.0   1st Qu.:  1073   1st Qu.:3.000   1st Qu.:9.711e+08  \n",
              " Median :383.0   Median :  2497   Median :3.500   Median :1.115e+09  \n",
              " Mean   :364.9   Mean   : 13381   Mean   :3.517   Mean   :1.130e+09  \n",
              " 3rd Qu.:557.0   3rd Qu.:  5991   3rd Qu.:4.000   3rd Qu.:1.275e+09  \n",
              " Max.   :668.0   Max.   :149532   Max.   :5.000   Max.   :1.452e+09  "
            ]
          },
          "metadata": {},
          "output_type": "display_data"
        }
      ],
      "source": [
        "summary(rating_data)"
      ]
    },
    {
      "cell_type": "code",
      "execution_count": null,
      "metadata": {
        "colab": {
          "base_uri": "https://localhost:8080/",
          "height": 286
        },
        "id": "ho4GYinf4PUA",
        "outputId": "05858980-fd2e-4d43-b2e6-3049a8adf21f"
      },
      "outputs": [
        {
          "data": {
            "text/html": [
              "<table class=\"dataframe\">\n",
              "<caption>A data.frame: 6 × 4</caption>\n",
              "<thead>\n",
              "\t<tr><th></th><th scope=col>userId</th><th scope=col>movieId</th><th scope=col>rating</th><th scope=col>timestamp</th></tr>\n",
              "\t<tr><th></th><th scope=col>&lt;int&gt;</th><th scope=col>&lt;int&gt;</th><th scope=col>&lt;dbl&gt;</th><th scope=col>&lt;int&gt;</th></tr>\n",
              "</thead>\n",
              "<tbody>\n",
              "\t<tr><th scope=row>1</th><td>1</td><td> 16</td><td>4.0</td><td>1217897793</td></tr>\n",
              "\t<tr><th scope=row>2</th><td>1</td><td> 24</td><td>1.5</td><td>1217895807</td></tr>\n",
              "\t<tr><th scope=row>3</th><td>1</td><td> 32</td><td>4.0</td><td>1217896246</td></tr>\n",
              "\t<tr><th scope=row>4</th><td>1</td><td> 47</td><td>4.0</td><td>1217896556</td></tr>\n",
              "\t<tr><th scope=row>5</th><td>1</td><td> 50</td><td>4.0</td><td>1217896523</td></tr>\n",
              "\t<tr><th scope=row>6</th><td>1</td><td>110</td><td>4.0</td><td>1217896150</td></tr>\n",
              "</tbody>\n",
              "</table>\n"
            ],
            "text/latex": "A data.frame: 6 × 4\n\\begin{tabular}{r|llll}\n  & userId & movieId & rating & timestamp\\\\\n  & <int> & <int> & <dbl> & <int>\\\\\n\\hline\n\t1 & 1 &  16 & 4.0 & 1217897793\\\\\n\t2 & 1 &  24 & 1.5 & 1217895807\\\\\n\t3 & 1 &  32 & 4.0 & 1217896246\\\\\n\t4 & 1 &  47 & 4.0 & 1217896556\\\\\n\t5 & 1 &  50 & 4.0 & 1217896523\\\\\n\t6 & 1 & 110 & 4.0 & 1217896150\\\\\n\\end{tabular}\n",
            "text/markdown": "\nA data.frame: 6 × 4\n\n| <!--/--> | userId &lt;int&gt; | movieId &lt;int&gt; | rating &lt;dbl&gt; | timestamp &lt;int&gt; |\n|---|---|---|---|---|\n| 1 | 1 |  16 | 4.0 | 1217897793 |\n| 2 | 1 |  24 | 1.5 | 1217895807 |\n| 3 | 1 |  32 | 4.0 | 1217896246 |\n| 4 | 1 |  47 | 4.0 | 1217896556 |\n| 5 | 1 |  50 | 4.0 | 1217896523 |\n| 6 | 1 | 110 | 4.0 | 1217896150 |\n\n",
            "text/plain": [
              "  userId movieId rating timestamp \n",
              "1 1       16     4.0    1217897793\n",
              "2 1       24     1.5    1217895807\n",
              "3 1       32     4.0    1217896246\n",
              "4 1       47     4.0    1217896556\n",
              "5 1       50     4.0    1217896523\n",
              "6 1      110     4.0    1217896150"
            ]
          },
          "metadata": {},
          "output_type": "display_data"
        }
      ],
      "source": [
        "\n"
      ]
    },
    {
      "cell_type": "markdown",
      "metadata": {
        "id": "8lORGY6FcVzS"
      },
      "source": [
        "From the above table, we observe that the userId column, as well as the movieId column, consist of integers. Furthermore, we need to convert the genres present in the movie_data dataframe into a more usable format by the users. In order to do so, we will first create a one-hot encoding to create a matrix that comprises of corresponding genres for each of the films."
      ]
    },
    {
      "cell_type": "markdown",
      "metadata": {
        "id": "KzSK0eRSWzVp"
      },
      "source": [
        "# Coverting Data into useful"
      ]
    },
    {
      "cell_type": "code",
      "execution_count": null,
      "metadata": {
        "colab": {
          "base_uri": "https://localhost:8080/"
        },
        "id": "jJxY0Xzm4SrS",
        "outputId": "bababd66-0f5f-48a3-93f1-fa74a58387bf"
      },
      "outputs": [
        {
          "name": "stdout",
          "output_type": "stream",
          "text": [
            "'data.frame':\t10329 obs. of  18 variables:\n",
            " $ Action     : int  0 0 0 0 0 1 0 0 1 1 ...\n",
            " $ Adventure  : int  1 1 0 0 0 0 0 1 0 1 ...\n",
            " $ Animation  : int  1 0 0 0 0 0 0 0 0 0 ...\n",
            " $ Children   : int  1 1 0 0 0 0 0 1 0 0 ...\n",
            " $ Comedy     : int  1 0 1 1 1 0 1 0 0 0 ...\n",
            " $ Crime      : int  0 0 0 0 0 1 0 0 0 0 ...\n",
            " $ Documentary: int  0 0 0 0 0 0 0 0 0 0 ...\n",
            " $ Drama      : int  0 0 0 1 0 0 0 0 0 0 ...\n",
            " $ Fantasy    : int  1 1 0 0 0 0 0 0 0 0 ...\n",
            " $ Film-Noir  : int  0 0 0 0 0 0 0 0 0 0 ...\n",
            " $ Horror     : int  0 0 0 0 0 0 0 0 0 0 ...\n",
            " $ Musical    : int  0 0 0 0 0 0 0 0 0 0 ...\n",
            " $ Mystery    : int  0 0 0 0 0 0 0 0 0 0 ...\n",
            " $ Romance    : int  0 0 1 1 0 0 1 0 0 0 ...\n",
            " $ Sci-Fi     : int  0 0 0 0 0 0 0 0 0 0 ...\n",
            " $ Thriller   : int  0 0 0 0 0 1 0 0 0 1 ...\n",
            " $ War        : int  0 0 0 0 0 0 0 0 0 0 ...\n",
            " $ Western    : int  0 0 0 0 0 0 0 0 0 0 ...\n"
          ]
        }
      ],
      "source": [
        "movie_genre <- as.data.frame(movie_data$genres, stringsAsFactors=FALSE)\n",
        "library(data.table)\n",
        "movie_genre2 <- as.data.frame(tstrsplit(movie_genre[,1], '[|]', \n",
        "                                   type.convert=TRUE), \n",
        "                         stringsAsFactors=FALSE) #DataFlair\n",
        "colnames(movie_genre2) <- c(1:10)\n",
        "\n",
        "list_genre <- c(\"Action\", \"Adventure\", \"Animation\", \"Children\", \n",
        "                \"Comedy\", \"Crime\",\"Documentary\", \"Drama\", \"Fantasy\",\n",
        "                \"Film-Noir\", \"Horror\", \"Musical\", \"Mystery\",\"Romance\",\n",
        "                \"Sci-Fi\", \"Thriller\", \"War\", \"Western\")\n",
        "genre_mat1 <- matrix(0,10330,18)\n",
        "genre_mat1[1,] <- list_genre\n",
        "colnames(genre_mat1) <- list_genre\n",
        "\n",
        "for (index in 1:nrow(movie_genre2)) {\n",
        "  for (col in 1:ncol(movie_genre2)) {\n",
        "    gen_col = which(genre_mat1[1,] == movie_genre2[index,col]) #Author DataFlair\n",
        "    genre_mat1[index+1,gen_col] <- 1\n",
        "}\n",
        "}\n",
        "genre_mat2 <- as.data.frame(genre_mat1[-1,], stringsAsFactors=FALSE) #remove first row, which was the genre list\n",
        "for (col in 1:ncol(genre_mat2)) {\n",
        "  genre_mat2[,col] <- as.integer(genre_mat2[,col]) #convert from characters to integers\n",
        "} \n",
        "str(genre_mat2)"
      ]
    },
    {
      "cell_type": "markdown",
      "metadata": {
        "id": "HuiuosHWccPp"
      },
      "source": [
        "we will create a ‘search matrix’ that will allow us to perform an easy search of the films by specifying the genre present in our list."
      ]
    },
    {
      "cell_type": "code",
      "execution_count": null,
      "metadata": {
        "colab": {
          "base_uri": "https://localhost:8080/",
          "height": 497
        },
        "id": "nAnt8RW74WT9",
        "outputId": "0b5ec92b-3d32-4562-e2ae-39033192e4d4"
      },
      "outputs": [
        {
          "data": {
            "text/html": [
              "<table class=\"dataframe\">\n",
              "<caption>A data.frame: 6 × 20</caption>\n",
              "<thead>\n",
              "\t<tr><th></th><th scope=col>movieId</th><th scope=col>title</th><th scope=col>Action</th><th scope=col>Adventure</th><th scope=col>Animation</th><th scope=col>Children</th><th scope=col>Comedy</th><th scope=col>Crime</th><th scope=col>Documentary</th><th scope=col>Drama</th><th scope=col>Fantasy</th><th scope=col>Film-Noir</th><th scope=col>Horror</th><th scope=col>Musical</th><th scope=col>Mystery</th><th scope=col>Romance</th><th scope=col>Sci-Fi</th><th scope=col>Thriller</th><th scope=col>War</th><th scope=col>Western</th></tr>\n",
              "\t<tr><th></th><th scope=col>&lt;int&gt;</th><th scope=col>&lt;chr&gt;</th><th scope=col>&lt;int&gt;</th><th scope=col>&lt;int&gt;</th><th scope=col>&lt;int&gt;</th><th scope=col>&lt;int&gt;</th><th scope=col>&lt;int&gt;</th><th scope=col>&lt;int&gt;</th><th scope=col>&lt;int&gt;</th><th scope=col>&lt;int&gt;</th><th scope=col>&lt;int&gt;</th><th scope=col>&lt;int&gt;</th><th scope=col>&lt;int&gt;</th><th scope=col>&lt;int&gt;</th><th scope=col>&lt;int&gt;</th><th scope=col>&lt;int&gt;</th><th scope=col>&lt;int&gt;</th><th scope=col>&lt;int&gt;</th><th scope=col>&lt;int&gt;</th><th scope=col>&lt;int&gt;</th></tr>\n",
              "</thead>\n",
              "<tbody>\n",
              "\t<tr><th scope=row>1</th><td>1</td><td>Toy Story (1995)                  </td><td>0</td><td>1</td><td>1</td><td>1</td><td>1</td><td>0</td><td>0</td><td>0</td><td>1</td><td>0</td><td>0</td><td>0</td><td>0</td><td>0</td><td>0</td><td>0</td><td>0</td><td>0</td></tr>\n",
              "\t<tr><th scope=row>2</th><td>2</td><td>Jumanji (1995)                    </td><td>0</td><td>1</td><td>0</td><td>1</td><td>0</td><td>0</td><td>0</td><td>0</td><td>1</td><td>0</td><td>0</td><td>0</td><td>0</td><td>0</td><td>0</td><td>0</td><td>0</td><td>0</td></tr>\n",
              "\t<tr><th scope=row>3</th><td>3</td><td>Grumpier Old Men (1995)           </td><td>0</td><td>0</td><td>0</td><td>0</td><td>1</td><td>0</td><td>0</td><td>0</td><td>0</td><td>0</td><td>0</td><td>0</td><td>0</td><td>1</td><td>0</td><td>0</td><td>0</td><td>0</td></tr>\n",
              "\t<tr><th scope=row>4</th><td>4</td><td>Waiting to Exhale (1995)          </td><td>0</td><td>0</td><td>0</td><td>0</td><td>1</td><td>0</td><td>0</td><td>1</td><td>0</td><td>0</td><td>0</td><td>0</td><td>0</td><td>1</td><td>0</td><td>0</td><td>0</td><td>0</td></tr>\n",
              "\t<tr><th scope=row>5</th><td>5</td><td>Father of the Bride Part II (1995)</td><td>0</td><td>0</td><td>0</td><td>0</td><td>1</td><td>0</td><td>0</td><td>0</td><td>0</td><td>0</td><td>0</td><td>0</td><td>0</td><td>0</td><td>0</td><td>0</td><td>0</td><td>0</td></tr>\n",
              "\t<tr><th scope=row>6</th><td>6</td><td>Heat (1995)                       </td><td>1</td><td>0</td><td>0</td><td>0</td><td>0</td><td>1</td><td>0</td><td>0</td><td>0</td><td>0</td><td>0</td><td>0</td><td>0</td><td>0</td><td>0</td><td>1</td><td>0</td><td>0</td></tr>\n",
              "</tbody>\n",
              "</table>\n"
            ],
            "text/latex": "A data.frame: 6 × 20\n\\begin{tabular}{r|llllllllllllllllllll}\n  & movieId & title & Action & Adventure & Animation & Children & Comedy & Crime & Documentary & Drama & Fantasy & Film-Noir & Horror & Musical & Mystery & Romance & Sci-Fi & Thriller & War & Western\\\\\n  & <int> & <chr> & <int> & <int> & <int> & <int> & <int> & <int> & <int> & <int> & <int> & <int> & <int> & <int> & <int> & <int> & <int> & <int> & <int> & <int>\\\\\n\\hline\n\t1 & 1 & Toy Story (1995)                   & 0 & 1 & 1 & 1 & 1 & 0 & 0 & 0 & 1 & 0 & 0 & 0 & 0 & 0 & 0 & 0 & 0 & 0\\\\\n\t2 & 2 & Jumanji (1995)                     & 0 & 1 & 0 & 1 & 0 & 0 & 0 & 0 & 1 & 0 & 0 & 0 & 0 & 0 & 0 & 0 & 0 & 0\\\\\n\t3 & 3 & Grumpier Old Men (1995)            & 0 & 0 & 0 & 0 & 1 & 0 & 0 & 0 & 0 & 0 & 0 & 0 & 0 & 1 & 0 & 0 & 0 & 0\\\\\n\t4 & 4 & Waiting to Exhale (1995)           & 0 & 0 & 0 & 0 & 1 & 0 & 0 & 1 & 0 & 0 & 0 & 0 & 0 & 1 & 0 & 0 & 0 & 0\\\\\n\t5 & 5 & Father of the Bride Part II (1995) & 0 & 0 & 0 & 0 & 1 & 0 & 0 & 0 & 0 & 0 & 0 & 0 & 0 & 0 & 0 & 0 & 0 & 0\\\\\n\t6 & 6 & Heat (1995)                        & 1 & 0 & 0 & 0 & 0 & 1 & 0 & 0 & 0 & 0 & 0 & 0 & 0 & 0 & 0 & 1 & 0 & 0\\\\\n\\end{tabular}\n",
            "text/markdown": "\nA data.frame: 6 × 20\n\n| <!--/--> | movieId &lt;int&gt; | title &lt;chr&gt; | Action &lt;int&gt; | Adventure &lt;int&gt; | Animation &lt;int&gt; | Children &lt;int&gt; | Comedy &lt;int&gt; | Crime &lt;int&gt; | Documentary &lt;int&gt; | Drama &lt;int&gt; | Fantasy &lt;int&gt; | Film-Noir &lt;int&gt; | Horror &lt;int&gt; | Musical &lt;int&gt; | Mystery &lt;int&gt; | Romance &lt;int&gt; | Sci-Fi &lt;int&gt; | Thriller &lt;int&gt; | War &lt;int&gt; | Western &lt;int&gt; |\n|---|---|---|---|---|---|---|---|---|---|---|---|---|---|---|---|---|---|---|---|---|\n| 1 | 1 | Toy Story (1995)                   | 0 | 1 | 1 | 1 | 1 | 0 | 0 | 0 | 1 | 0 | 0 | 0 | 0 | 0 | 0 | 0 | 0 | 0 |\n| 2 | 2 | Jumanji (1995)                     | 0 | 1 | 0 | 1 | 0 | 0 | 0 | 0 | 1 | 0 | 0 | 0 | 0 | 0 | 0 | 0 | 0 | 0 |\n| 3 | 3 | Grumpier Old Men (1995)            | 0 | 0 | 0 | 0 | 1 | 0 | 0 | 0 | 0 | 0 | 0 | 0 | 0 | 1 | 0 | 0 | 0 | 0 |\n| 4 | 4 | Waiting to Exhale (1995)           | 0 | 0 | 0 | 0 | 1 | 0 | 0 | 1 | 0 | 0 | 0 | 0 | 0 | 1 | 0 | 0 | 0 | 0 |\n| 5 | 5 | Father of the Bride Part II (1995) | 0 | 0 | 0 | 0 | 1 | 0 | 0 | 0 | 0 | 0 | 0 | 0 | 0 | 0 | 0 | 0 | 0 | 0 |\n| 6 | 6 | Heat (1995)                        | 1 | 0 | 0 | 0 | 0 | 1 | 0 | 0 | 0 | 0 | 0 | 0 | 0 | 0 | 0 | 1 | 0 | 0 |\n\n",
            "text/plain": [
              "  movieId title                              Action Adventure Animation\n",
              "1 1       Toy Story (1995)                   0      1         1        \n",
              "2 2       Jumanji (1995)                     0      1         0        \n",
              "3 3       Grumpier Old Men (1995)            0      0         0        \n",
              "4 4       Waiting to Exhale (1995)           0      0         0        \n",
              "5 5       Father of the Bride Part II (1995) 0      0         0        \n",
              "6 6       Heat (1995)                        1      0         0        \n",
              "  Children Comedy Crime Documentary Drama Fantasy Film-Noir Horror Musical\n",
              "1 1        1      0     0           0     1       0         0      0      \n",
              "2 1        0      0     0           0     1       0         0      0      \n",
              "3 0        1      0     0           0     0       0         0      0      \n",
              "4 0        1      0     0           1     0       0         0      0      \n",
              "5 0        1      0     0           0     0       0         0      0      \n",
              "6 0        0      1     0           0     0       0         0      0      \n",
              "  Mystery Romance Sci-Fi Thriller War Western\n",
              "1 0       0       0      0        0   0      \n",
              "2 0       0       0      0        0   0      \n",
              "3 0       1       0      0        0   0      \n",
              "4 0       1       0      0        0   0      \n",
              "5 0       0       0      0        0   0      \n",
              "6 0       0       0      1        0   0      "
            ]
          },
          "metadata": {},
          "output_type": "display_data"
        }
      ],
      "source": [
        "SearchMatrix <- cbind(movie_data[,1:2], genre_mat2[])\n",
        "head(SearchMatrix)    #DataFlair"
      ]
    },
    {
      "cell_type": "markdown",
      "metadata": {
        "id": "Ot19QJ5nckJT"
      },
      "source": [
        "For our movie recommendation system to make sense of our ratings through recommenderlabs, we have to convert our matrix into a sparse matrix one"
      ]
    },
    {
      "cell_type": "code",
      "execution_count": null,
      "metadata": {
        "colab": {
          "base_uri": "https://localhost:8080/",
          "height": 89
        },
        "id": "LmdC6BpN4YpS",
        "outputId": "a4886178-7c00-46f6-d1d4-90108ab0de0c"
      },
      "outputs": [
        {
          "name": "stderr",
          "output_type": "stream",
          "text": [
            "Warning message in dcast(rating_data, userId ~ movieId, value.var = \"rating\", na.rm = FALSE):\n",
            "“The dcast generic in data.table has been passed a data.frame and will attempt to redirect to the reshape2::dcast; please note that reshape2 is deprecated, and this redirection is now deprecated as well. Please do this redirection yourself like reshape2::dcast(rating_data). In the next version, this warning will become an error.”\n"
          ]
        },
        {
          "data": {
            "text/plain": [
              "668 x 10325 rating matrix of class ‘realRatingMatrix’ with 105339 ratings."
            ]
          },
          "metadata": {},
          "output_type": "display_data"
        }
      ],
      "source": [
        "ratingMatrix <- dcast(rating_data, userId~movieId, value.var = \"rating\", na.rm=FALSE)\n",
        "ratingMatrix <- as.matrix(ratingMatrix[,-1]) #remove userIds\n",
        "#Convert rating matrix into a recommenderlab sparse matrix\n",
        "ratingMatrix <- as(ratingMatrix, \"realRatingMatrix\")\n",
        "ratingMatrix"
      ]
    },
    {
      "cell_type": "code",
      "execution_count": null,
      "metadata": {
        "colab": {
          "base_uri": "https://localhost:8080/",
          "height": 69
        },
        "id": "KeforNNK4aii",
        "outputId": "5baaff78-2fda-4b42-f7c1-411eab8ce2ad"
      },
      "outputs": [
        {
          "data": {
            "text/html": [
              "<style>\n",
              ".list-inline {list-style: none; margin:0; padding: 0}\n",
              ".list-inline>li {display: inline-block}\n",
              ".list-inline>li:not(:last-child)::after {content: \"\\00b7\"; padding: 0 .5ex}\n",
              "</style>\n",
              "<ol class=list-inline><li>'HYBRID_realRatingMatrix'</li><li>'ALS_realRatingMatrix'</li><li>'ALS_implicit_realRatingMatrix'</li><li>'IBCF_realRatingMatrix'</li><li>'LIBMF_realRatingMatrix'</li><li>'POPULAR_realRatingMatrix'</li><li>'RANDOM_realRatingMatrix'</li><li>'RERECOMMEND_realRatingMatrix'</li><li>'SVD_realRatingMatrix'</li><li>'SVDF_realRatingMatrix'</li><li>'UBCF_realRatingMatrix'</li></ol>\n"
            ],
            "text/latex": "\\begin{enumerate*}\n\\item 'HYBRID\\_realRatingMatrix'\n\\item 'ALS\\_realRatingMatrix'\n\\item 'ALS\\_implicit\\_realRatingMatrix'\n\\item 'IBCF\\_realRatingMatrix'\n\\item 'LIBMF\\_realRatingMatrix'\n\\item 'POPULAR\\_realRatingMatrix'\n\\item 'RANDOM\\_realRatingMatrix'\n\\item 'RERECOMMEND\\_realRatingMatrix'\n\\item 'SVD\\_realRatingMatrix'\n\\item 'SVDF\\_realRatingMatrix'\n\\item 'UBCF\\_realRatingMatrix'\n\\end{enumerate*}\n",
            "text/markdown": "1. 'HYBRID_realRatingMatrix'\n2. 'ALS_realRatingMatrix'\n3. 'ALS_implicit_realRatingMatrix'\n4. 'IBCF_realRatingMatrix'\n5. 'LIBMF_realRatingMatrix'\n6. 'POPULAR_realRatingMatrix'\n7. 'RANDOM_realRatingMatrix'\n8. 'RERECOMMEND_realRatingMatrix'\n9. 'SVD_realRatingMatrix'\n10. 'SVDF_realRatingMatrix'\n11. 'UBCF_realRatingMatrix'\n\n\n",
            "text/plain": [
              " [1] \"HYBRID_realRatingMatrix\"       \"ALS_realRatingMatrix\"         \n",
              " [3] \"ALS_implicit_realRatingMatrix\" \"IBCF_realRatingMatrix\"        \n",
              " [5] \"LIBMF_realRatingMatrix\"        \"POPULAR_realRatingMatrix\"     \n",
              " [7] \"RANDOM_realRatingMatrix\"       \"RERECOMMEND_realRatingMatrix\" \n",
              " [9] \"SVD_realRatingMatrix\"          \"SVDF_realRatingMatrix\"        \n",
              "[11] \"UBCF_realRatingMatrix\"        "
            ]
          },
          "metadata": {},
          "output_type": "display_data"
        }
      ],
      "source": [
        "recommendation_model <- recommenderRegistry$get_entries(dataType = \"realRatingMatrix\")\n",
        "names(recommendation_model)"
      ]
    },
    {
      "cell_type": "code",
      "execution_count": null,
      "metadata": {
        "colab": {
          "base_uri": "https://localhost:8080/",
          "height": 427
        },
        "id": "YjoqfS7w4d7W",
        "outputId": "16992486-9ae1-47dd-f61b-686194177ee1"
      },
      "outputs": [
        {
          "data": {
            "text/html": [
              "<dl>\n",
              "\t<dt>$HYBRID_realRatingMatrix</dt>\n",
              "\t\t<dd>'Hybrid recommender that aggegates several recommendation strategies using weighted averages.'</dd>\n",
              "\t<dt>$ALS_realRatingMatrix</dt>\n",
              "\t\t<dd>'Recommender for explicit ratings based on latent factors, calculated by alternating least squares algorithm.'</dd>\n",
              "\t<dt>$ALS_implicit_realRatingMatrix</dt>\n",
              "\t\t<dd>'Recommender for implicit data based on latent factors, calculated by alternating least squares algorithm.'</dd>\n",
              "\t<dt>$IBCF_realRatingMatrix</dt>\n",
              "\t\t<dd>'Recommender based on item-based collaborative filtering.'</dd>\n",
              "\t<dt>$LIBMF_realRatingMatrix</dt>\n",
              "\t\t<dd>'Matrix factorization with LIBMF via package recosystem (https://cran.r-project.org/web/packages/recosystem/vignettes/introduction.html).'</dd>\n",
              "\t<dt>$POPULAR_realRatingMatrix</dt>\n",
              "\t\t<dd>'Recommender based on item popularity.'</dd>\n",
              "\t<dt>$RANDOM_realRatingMatrix</dt>\n",
              "\t\t<dd>'Produce random recommendations (real ratings).'</dd>\n",
              "\t<dt>$RERECOMMEND_realRatingMatrix</dt>\n",
              "\t\t<dd>'Re-recommends highly rated items (real ratings).'</dd>\n",
              "\t<dt>$SVD_realRatingMatrix</dt>\n",
              "\t\t<dd>'Recommender based on SVD approximation with column-mean imputation.'</dd>\n",
              "\t<dt>$SVDF_realRatingMatrix</dt>\n",
              "\t\t<dd>'Recommender based on Funk SVD with gradient descend (https://sifter.org/~simon/journal/20061211.html).'</dd>\n",
              "\t<dt>$UBCF_realRatingMatrix</dt>\n",
              "\t\t<dd>'Recommender based on user-based collaborative filtering.'</dd>\n",
              "</dl>\n"
            ],
            "text/latex": "\\begin{description}\n\\item[\\$HYBRID\\_realRatingMatrix] 'Hybrid recommender that aggegates several recommendation strategies using weighted averages.'\n\\item[\\$ALS\\_realRatingMatrix] 'Recommender for explicit ratings based on latent factors, calculated by alternating least squares algorithm.'\n\\item[\\$ALS\\_implicit\\_realRatingMatrix] 'Recommender for implicit data based on latent factors, calculated by alternating least squares algorithm.'\n\\item[\\$IBCF\\_realRatingMatrix] 'Recommender based on item-based collaborative filtering.'\n\\item[\\$LIBMF\\_realRatingMatrix] 'Matrix factorization with LIBMF via package recosystem (https://cran.r-project.org/web/packages/recosystem/vignettes/introduction.html).'\n\\item[\\$POPULAR\\_realRatingMatrix] 'Recommender based on item popularity.'\n\\item[\\$RANDOM\\_realRatingMatrix] 'Produce random recommendations (real ratings).'\n\\item[\\$RERECOMMEND\\_realRatingMatrix] 'Re-recommends highly rated items (real ratings).'\n\\item[\\$SVD\\_realRatingMatrix] 'Recommender based on SVD approximation with column-mean imputation.'\n\\item[\\$SVDF\\_realRatingMatrix] 'Recommender based on Funk SVD with gradient descend (https://sifter.org/\\textasciitilde{}simon/journal/20061211.html).'\n\\item[\\$UBCF\\_realRatingMatrix] 'Recommender based on user-based collaborative filtering.'\n\\end{description}\n",
            "text/markdown": "$HYBRID_realRatingMatrix\n:   'Hybrid recommender that aggegates several recommendation strategies using weighted averages.'\n$ALS_realRatingMatrix\n:   'Recommender for explicit ratings based on latent factors, calculated by alternating least squares algorithm.'\n$ALS_implicit_realRatingMatrix\n:   'Recommender for implicit data based on latent factors, calculated by alternating least squares algorithm.'\n$IBCF_realRatingMatrix\n:   'Recommender based on item-based collaborative filtering.'\n$LIBMF_realRatingMatrix\n:   'Matrix factorization with LIBMF via package recosystem (https://cran.r-project.org/web/packages/recosystem/vignettes/introduction.html).'\n$POPULAR_realRatingMatrix\n:   'Recommender based on item popularity.'\n$RANDOM_realRatingMatrix\n:   'Produce random recommendations (real ratings).'\n$RERECOMMEND_realRatingMatrix\n:   'Re-recommends highly rated items (real ratings).'\n$SVD_realRatingMatrix\n:   'Recommender based on SVD approximation with column-mean imputation.'\n$SVDF_realRatingMatrix\n:   'Recommender based on Funk SVD with gradient descend (https://sifter.org/~simon/journal/20061211.html).'\n$UBCF_realRatingMatrix\n:   'Recommender based on user-based collaborative filtering.'\n\n\n",
            "text/plain": [
              "$HYBRID_realRatingMatrix\n",
              "[1] \"Hybrid recommender that aggegates several recommendation strategies using weighted averages.\"\n",
              "\n",
              "$ALS_realRatingMatrix\n",
              "[1] \"Recommender for explicit ratings based on latent factors, calculated by alternating least squares algorithm.\"\n",
              "\n",
              "$ALS_implicit_realRatingMatrix\n",
              "[1] \"Recommender for implicit data based on latent factors, calculated by alternating least squares algorithm.\"\n",
              "\n",
              "$IBCF_realRatingMatrix\n",
              "[1] \"Recommender based on item-based collaborative filtering.\"\n",
              "\n",
              "$LIBMF_realRatingMatrix\n",
              "[1] \"Matrix factorization with LIBMF via package recosystem (https://cran.r-project.org/web/packages/recosystem/vignettes/introduction.html).\"\n",
              "\n",
              "$POPULAR_realRatingMatrix\n",
              "[1] \"Recommender based on item popularity.\"\n",
              "\n",
              "$RANDOM_realRatingMatrix\n",
              "[1] \"Produce random recommendations (real ratings).\"\n",
              "\n",
              "$RERECOMMEND_realRatingMatrix\n",
              "[1] \"Re-recommends highly rated items (real ratings).\"\n",
              "\n",
              "$SVD_realRatingMatrix\n",
              "[1] \"Recommender based on SVD approximation with column-mean imputation.\"\n",
              "\n",
              "$SVDF_realRatingMatrix\n",
              "[1] \"Recommender based on Funk SVD with gradient descend (https://sifter.org/~simon/journal/20061211.html).\"\n",
              "\n",
              "$UBCF_realRatingMatrix\n",
              "[1] \"Recommender based on user-based collaborative filtering.\"\n"
            ]
          },
          "metadata": {},
          "output_type": "display_data"
        }
      ],
      "source": [
        "lapply(recommendation_model, \"[[\", \"description\")"
      ]
    },
    {
      "cell_type": "code",
      "execution_count": null,
      "metadata": {
        "colab": {
          "base_uri": "https://localhost:8080/",
          "height": 253
        },
        "id": "0AbqVN824g9M",
        "outputId": "7c31f20e-f211-40b5-df25-8a700f273f35"
      },
      "outputs": [
        {
          "data": {
            "text/html": [
              "<dl>\n",
              "\t<dt>$k</dt>\n",
              "\t\t<dd>30</dd>\n",
              "\t<dt>$method</dt>\n",
              "\t\t<dd>'Cosine'</dd>\n",
              "\t<dt>$normalize</dt>\n",
              "\t\t<dd>'center'</dd>\n",
              "\t<dt>$normalize_sim_matrix</dt>\n",
              "\t\t<dd>FALSE</dd>\n",
              "\t<dt>$alpha</dt>\n",
              "\t\t<dd>0.5</dd>\n",
              "\t<dt>$na_as_zero</dt>\n",
              "\t\t<dd>FALSE</dd>\n",
              "</dl>\n"
            ],
            "text/latex": "\\begin{description}\n\\item[\\$k] 30\n\\item[\\$method] 'Cosine'\n\\item[\\$normalize] 'center'\n\\item[\\$normalize\\_sim\\_matrix] FALSE\n\\item[\\$alpha] 0.5\n\\item[\\$na\\_as\\_zero] FALSE\n\\end{description}\n",
            "text/markdown": "$k\n:   30\n$method\n:   'Cosine'\n$normalize\n:   'center'\n$normalize_sim_matrix\n:   FALSE\n$alpha\n:   0.5\n$na_as_zero\n:   FALSE\n\n\n",
            "text/plain": [
              "$k\n",
              "[1] 30\n",
              "\n",
              "$method\n",
              "[1] \"Cosine\"\n",
              "\n",
              "$normalize\n",
              "[1] \"center\"\n",
              "\n",
              "$normalize_sim_matrix\n",
              "[1] FALSE\n",
              "\n",
              "$alpha\n",
              "[1] 0.5\n",
              "\n",
              "$na_as_zero\n",
              "[1] FALSE\n"
            ]
          },
          "metadata": {},
          "output_type": "display_data"
        }
      ],
      "source": [
        "recommendation_model$IBCF_realRatingMatrix$parameters"
      ]
    },
    {
      "cell_type": "markdown",
      "metadata": {
        "id": "xVNqIqKEc8Cj"
      },
      "source": [
        "Collaborative Filtering involves suggesting movies to the users that are based on collecting preferences from many other users. For example, if a user A likes to watch action films and so does user B, then the movies that the user B will watch in the future will be recommended to A and vice-versa. Therefore, recommending movies is dependent on creating a relationship of similarity between the two users. With the help of recommenderlab, we can compute similarities using various operators like cosine, pearson as well as jaccard"
      ]
    },
    {
      "cell_type": "markdown",
      "metadata": {
        "id": "gVj6AglmW9QF"
      },
      "source": [
        "# Creating similarity matrix"
      ]
    },
    {
      "cell_type": "code",
      "execution_count": null,
      "metadata": {
        "colab": {
          "base_uri": "https://localhost:8080/",
          "height": 612
        },
        "id": "u7663nI94jtH",
        "outputId": "3d12a285-219b-4e5d-acee-6870e97011e3"
      },
      "outputs": [
        {
          "data": {
            "text/html": [
              "<table class=\"dataframe\">\n",
              "<caption>A matrix: 4 × 4 of type dbl</caption>\n",
              "<thead>\n",
              "\t<tr><th></th><th scope=col>1</th><th scope=col>2</th><th scope=col>3</th><th scope=col>4</th></tr>\n",
              "</thead>\n",
              "<tbody>\n",
              "\t<tr><th scope=row>1</th><td>0.0000000</td><td>0.9760860</td><td>0.9641723</td><td>0.9914398</td></tr>\n",
              "\t<tr><th scope=row>2</th><td>0.9760860</td><td>0.0000000</td><td>0.9925732</td><td>0.9374253</td></tr>\n",
              "\t<tr><th scope=row>3</th><td>0.9641723</td><td>0.9925732</td><td>0.0000000</td><td>0.9888968</td></tr>\n",
              "\t<tr><th scope=row>4</th><td>0.9914398</td><td>0.9374253</td><td>0.9888968</td><td>0.0000000</td></tr>\n",
              "</tbody>\n",
              "</table>\n"
            ],
            "text/latex": "A matrix: 4 × 4 of type dbl\n\\begin{tabular}{r|llll}\n  & 1 & 2 & 3 & 4\\\\\n\\hline\n\t1 & 0.0000000 & 0.9760860 & 0.9641723 & 0.9914398\\\\\n\t2 & 0.9760860 & 0.0000000 & 0.9925732 & 0.9374253\\\\\n\t3 & 0.9641723 & 0.9925732 & 0.0000000 & 0.9888968\\\\\n\t4 & 0.9914398 & 0.9374253 & 0.9888968 & 0.0000000\\\\\n\\end{tabular}\n",
            "text/markdown": "\nA matrix: 4 × 4 of type dbl\n\n| <!--/--> | 1 | 2 | 3 | 4 |\n|---|---|---|---|---|\n| 1 | 0.0000000 | 0.9760860 | 0.9641723 | 0.9914398 |\n| 2 | 0.9760860 | 0.0000000 | 0.9925732 | 0.9374253 |\n| 3 | 0.9641723 | 0.9925732 | 0.0000000 | 0.9888968 |\n| 4 | 0.9914398 | 0.9374253 | 0.9888968 | 0.0000000 |\n\n",
            "text/plain": [
              "  1         2         3         4        \n",
              "1 0.0000000 0.9760860 0.9641723 0.9914398\n",
              "2 0.9760860 0.0000000 0.9925732 0.9374253\n",
              "3 0.9641723 0.9925732 0.0000000 0.9888968\n",
              "4 0.9914398 0.9374253 0.9888968 0.0000000"
            ]
          },
          "metadata": {},
          "output_type": "display_data"
        },
        {
          "data": {
            "image/png": "[encoded data removed]",
            "text/plain": [
              "Plot with title “User's Similarities”"
            ]
          },
          "metadata": {
            "image/png": {
              "height": 420,
              "width": 420
            }
          },
          "output_type": "display_data"
        }
      ],
      "source": [
        "similarity_mat <- similarity(ratingMatrix[1:4, ],\n",
        "                               method = \"cosine\",\n",
        "                               which = \"users\")\n",
        "as.matrix(similarity_mat)\n",
        "\n",
        "image(as.matrix(similarity_mat), main = \"User's Similarities\")"
      ]
    },
    {
      "cell_type": "code",
      "execution_count": null,
      "metadata": {
        "colab": {
          "base_uri": "https://localhost:8080/",
          "height": 612
        },
        "id": "_MIqc_cG4nBP",
        "outputId": "1bf86371-832a-4b44-b106-e77ff88883e1"
      },
      "outputs": [
        {
          "data": {
            "text/html": [
              "<table class=\"dataframe\">\n",
              "<caption>A matrix: 4 × 4 of type dbl</caption>\n",
              "<thead>\n",
              "\t<tr><th></th><th scope=col>1</th><th scope=col>2</th><th scope=col>3</th><th scope=col>4</th></tr>\n",
              "</thead>\n",
              "<tbody>\n",
              "\t<tr><th scope=row>1</th><td>0.0000000</td><td>0.9669732</td><td>0.9559341</td><td>0.9101276</td></tr>\n",
              "\t<tr><th scope=row>2</th><td>0.9669732</td><td>0.0000000</td><td>0.9658757</td><td>0.9412416</td></tr>\n",
              "\t<tr><th scope=row>3</th><td>0.9559341</td><td>0.9658757</td><td>0.0000000</td><td>0.9864877</td></tr>\n",
              "\t<tr><th scope=row>4</th><td>0.9101276</td><td>0.9412416</td><td>0.9864877</td><td>0.0000000</td></tr>\n",
              "</tbody>\n",
              "</table>\n"
            ],
            "text/latex": "A matrix: 4 × 4 of type dbl\n\\begin{tabular}{r|llll}\n  & 1 & 2 & 3 & 4\\\\\n\\hline\n\t1 & 0.0000000 & 0.9669732 & 0.9559341 & 0.9101276\\\\\n\t2 & 0.9669732 & 0.0000000 & 0.9658757 & 0.9412416\\\\\n\t3 & 0.9559341 & 0.9658757 & 0.0000000 & 0.9864877\\\\\n\t4 & 0.9101276 & 0.9412416 & 0.9864877 & 0.0000000\\\\\n\\end{tabular}\n",
            "text/markdown": "\nA matrix: 4 × 4 of type dbl\n\n| <!--/--> | 1 | 2 | 3 | 4 |\n|---|---|---|---|---|\n| 1 | 0.0000000 | 0.9669732 | 0.9559341 | 0.9101276 |\n| 2 | 0.9669732 | 0.0000000 | 0.9658757 | 0.9412416 |\n| 3 | 0.9559341 | 0.9658757 | 0.0000000 | 0.9864877 |\n| 4 | 0.9101276 | 0.9412416 | 0.9864877 | 0.0000000 |\n\n",
            "text/plain": [
              "  1         2         3         4        \n",
              "1 0.0000000 0.9669732 0.9559341 0.9101276\n",
              "2 0.9669732 0.0000000 0.9658757 0.9412416\n",
              "3 0.9559341 0.9658757 0.0000000 0.9864877\n",
              "4 0.9101276 0.9412416 0.9864877 0.0000000"
            ]
          },
          "metadata": {},
          "output_type": "display_data"
        },
        {
          "data": {
            "image/png": "[encoded data removed]",
            "text/plain": [
              "Plot with title “Movies similarity”"
            ]
          },
          "metadata": {
            "image/png": {
              "height": 420,
              "width": 420
            }
          },
          "output_type": "display_data"
        }
      ],
      "source": [
        "movie_similarity <- similarity(ratingMatrix[, 1:4], method =\n",
        "                                 \"cosine\", which = \"items\")\n",
        "as.matrix(movie_similarity)\n",
        "\n",
        "image(as.matrix(movie_similarity), main = \"Movies similarity\")"
      ]
    },
    {
      "cell_type": "code",
      "execution_count": null,
      "metadata": {
        "colab": {
          "base_uri": "https://localhost:8080/",
          "height": 34
        },
        "id": "7PUfcxX54pIo",
        "outputId": "d5c06317-b898-4617-8b57-a3c4fac40373"
      },
      "outputs": [
        {
          "data": {
            "text/html": [
              "<style>\n",
              ".list-inline {list-style: none; margin:0; padding: 0}\n",
              ".list-inline>li {display: inline-block}\n",
              ".list-inline>li:not(:last-child)::after {content: \"\\00b7\"; padding: 0 .5ex}\n",
              "</style>\n",
              "<ol class=list-inline><li>0</li><li>5</li><li>4</li><li>3</li><li>4.5</li><li>1.5</li><li>2</li><li>3.5</li><li>1</li><li>2.5</li><li>0.5</li></ol>\n"
            ],
            "text/latex": "\\begin{enumerate*}\n\\item 0\n\\item 5\n\\item 4\n\\item 3\n\\item 4.5\n\\item 1.5\n\\item 2\n\\item 3.5\n\\item 1\n\\item 2.5\n\\item 0.5\n\\end{enumerate*}\n",
            "text/markdown": "1. 0\n2. 5\n3. 4\n4. 3\n5. 4.5\n6. 1.5\n7. 2\n8. 3.5\n9. 1\n10. 2.5\n11. 0.5\n\n\n",
            "text/plain": [
              " [1] 0.0 5.0 4.0 3.0 4.5 1.5 2.0 3.5 1.0 2.5 0.5"
            ]
          },
          "metadata": {},
          "output_type": "display_data"
        }
      ],
      "source": [
        "rating_values <- as.vector(ratingMatrix@data)\n",
        "unique(rating_values) # extracting unique ratings"
      ]
    },
    {
      "cell_type": "markdown",
      "metadata": {
        "id": "mZJ22AHXdHOJ"
      },
      "source": [
        "table of ratings that will display the most unique ratings."
      ]
    },
    {
      "cell_type": "code",
      "execution_count": null,
      "metadata": {
        "colab": {
          "base_uri": "https://localhost:8080/",
          "height": 104
        },
        "id": "C_EkEwio4sPi",
        "outputId": "625e20cc-f24a-4cd4-9151-e796473714ae"
      },
      "outputs": [
        {
          "data": {
            "text/plain": [
              "rating_values\n",
              "      0     0.5       1     1.5       2     2.5       3     3.5       4     4.5 \n",
              "6791761    1198    3258    1567    7943    5484   21729   12237   28880    8187 \n",
              "      5 \n",
              "  14856 "
            ]
          },
          "metadata": {},
          "output_type": "display_data"
        }
      ],
      "source": [
        "Table_of_Ratings <- table(rating_values) # creating a count of movie ratings\n",
        "Table_of_Ratings"
      ]
    },
    {
      "cell_type": "markdown",
      "metadata": {
        "id": "CiIe-5KKXVWv"
      },
      "source": [
        "# Most Viewed Movie visualisation"
      ]
    },
    {
      "cell_type": "markdown",
      "metadata": {
        "id": "oyl1w0KtdLfR"
      },
      "source": [
        "first count the number of views in a film and then organize them in a table that would group them in descending order."
      ]
    },
    {
      "cell_type": "code",
      "execution_count": null,
      "metadata": {
        "colab": {
          "base_uri": "https://localhost:8080/",
          "height": 286
        },
        "id": "AFFT7VTR4uo3",
        "outputId": "37780090-14f4-47e4-fac2-ae8727056e40"
      },
      "outputs": [
        {
          "data": {
            "text/html": [
              "<table class=\"dataframe\">\n",
              "<caption>A data.frame: 6 × 3</caption>\n",
              "<thead>\n",
              "\t<tr><th></th><th scope=col>movie</th><th scope=col>views</th><th scope=col>title</th></tr>\n",
              "\t<tr><th></th><th scope=col>&lt;chr&gt;</th><th scope=col>&lt;int&gt;</th><th scope=col>&lt;chr&gt;</th></tr>\n",
              "</thead>\n",
              "<tbody>\n",
              "\t<tr><th scope=row>296</th><td>296</td><td>325</td><td>Pulp Fiction (1994)                      </td></tr>\n",
              "\t<tr><th scope=row>356</th><td>356</td><td>311</td><td>Forrest Gump (1994)                      </td></tr>\n",
              "\t<tr><th scope=row>318</th><td>318</td><td>308</td><td>Shawshank Redemption, The (1994)         </td></tr>\n",
              "\t<tr><th scope=row>480</th><td>480</td><td>294</td><td>Jurassic Park (1993)                     </td></tr>\n",
              "\t<tr><th scope=row>593</th><td>593</td><td>290</td><td>Silence of the Lambs, The (1991)         </td></tr>\n",
              "\t<tr><th scope=row>260</th><td>260</td><td>273</td><td>Star Wars: Episode IV - A New Hope (1977)</td></tr>\n",
              "</tbody>\n",
              "</table>\n"
            ],
            "text/latex": "A data.frame: 6 × 3\n\\begin{tabular}{r|lll}\n  & movie & views & title\\\\\n  & <chr> & <int> & <chr>\\\\\n\\hline\n\t296 & 296 & 325 & Pulp Fiction (1994)                      \\\\\n\t356 & 356 & 311 & Forrest Gump (1994)                      \\\\\n\t318 & 318 & 308 & Shawshank Redemption, The (1994)         \\\\\n\t480 & 480 & 294 & Jurassic Park (1993)                     \\\\\n\t593 & 593 & 290 & Silence of the Lambs, The (1991)         \\\\\n\t260 & 260 & 273 & Star Wars: Episode IV - A New Hope (1977)\\\\\n\\end{tabular}\n",
            "text/markdown": "\nA data.frame: 6 × 3\n\n| <!--/--> | movie &lt;chr&gt; | views &lt;int&gt; | title &lt;chr&gt; |\n|---|---|---|---|\n| 296 | 296 | 325 | Pulp Fiction (1994)                       |\n| 356 | 356 | 311 | Forrest Gump (1994)                       |\n| 318 | 318 | 308 | Shawshank Redemption, The (1994)          |\n| 480 | 480 | 294 | Jurassic Park (1993)                      |\n| 593 | 593 | 290 | Silence of the Lambs, The (1991)          |\n| 260 | 260 | 273 | Star Wars: Episode IV - A New Hope (1977) |\n\n",
            "text/plain": [
              "    movie views title                                    \n",
              "296 296   325   Pulp Fiction (1994)                      \n",
              "356 356   311   Forrest Gump (1994)                      \n",
              "318 318   308   Shawshank Redemption, The (1994)         \n",
              "480 480   294   Jurassic Park (1993)                     \n",
              "593 593   290   Silence of the Lambs, The (1991)         \n",
              "260 260   273   Star Wars: Episode IV - A New Hope (1977)"
            ]
          },
          "metadata": {},
          "output_type": "display_data"
        }
      ],
      "source": [
        "library(ggplot2)\n",
        "movie_views <- colCounts(ratingMatrix) # count views for each movie\n",
        "table_views <- data.frame(movie = names(movie_views),\n",
        "                          views = movie_views) # create dataframe of views\n",
        "table_views <- table_views[order(table_views$views,\n",
        "                                 decreasing = TRUE), ] # sort by number of views\n",
        "table_views$title <- NA\n",
        "for (index in 1:10325){\n",
        "  table_views[index,3] <- as.character(subset(movie_data,\n",
        "                                         movie_data$movieId == table_views[index,1])$title)\n",
        "}\n",
        "table_views[1:6,]"
      ]
    },
    {
      "cell_type": "markdown",
      "metadata": {
        "id": "gryG-oBIdO5m"
      },
      "source": [
        " bar plot for the total number of views of the top films"
      ]
    },
    {
      "cell_type": "code",
      "execution_count": null,
      "metadata": {
        "colab": {
          "base_uri": "https://localhost:8080/",
          "height": 437
        },
        "id": "bHQVqZMi4w50",
        "outputId": "6566d6dc-4aa2-4428-9010-f7e626419570"
      },
      "outputs": [
        {
          "data": {
            "image/png": "[encoded data removed]",
            "text/plain": [
              "plot without title"
            ]
          },
          "metadata": {
            "image/png": {
              "height": 420,
              "width": 420
            }
          },
          "output_type": "display_data"
        }
      ],
      "source": [
        "ggplot(table_views[1:6, ], aes(x = title, y = views)) +\n",
        "  geom_bar(stat=\"identity\", fill = 'steelblue') +\n",
        "  geom_text(aes(label=views), vjust=-0.3, size=3.5) +\n",
        "  theme(axis.text.x = element_text(angle = 45, hjust = 1)) +\n",
        "\n",
        "  ggtitle(\"Total Views of the Top Films\")"
      ]
    },
    {
      "cell_type": "code",
      "execution_count": null,
      "metadata": {
        "colab": {
          "base_uri": "https://localhost:8080/",
          "height": 437
        },
        "id": "i24uVr6o40Z3",
        "outputId": "fc9528d0-eb72-4fe6-95c5-38ad7db430a6"
      },
      "outputs": [
        {
          "data": {
            "image/png": "[encoded data removed]",
            "text/plain": [
              "plot without title"
            ]
          },
          "metadata": {
            "image/png": {
              "height": 420,
              "width": 420
            }
          },
          "output_type": "display_data"
        }
      ],
      "source": [
        "image(ratingMatrix[1:20, 1:25], axes = FALSE, main = \"Heatmap of the first 25 rows and 25 columns\")"
      ]
    },
    {
      "cell_type": "markdown",
      "metadata": {
        "id": "qmvOXXX_darn"
      },
      "source": [
        "We will conduct data preparation in the following three steps –\n",
        "\n",
        "* Selecting useful data.\n",
        "* Normalizing data.\n",
        "* Binarizing the data.\n",
        "\n",
        "For finding useful data in our dataset, we have set the threshold for the minimum number of users who have rated a film as 50. This is also same for minimum number of views that are per film. This way, we have filtered a list of watched films from least-watched ones."
      ]
    },
    {
      "cell_type": "code",
      "execution_count": null,
      "metadata": {
        "colab": {
          "base_uri": "https://localhost:8080/",
          "height": 34
        },
        "id": "oA22Y8XZ42fp",
        "outputId": "05626261-2a35-4b12-eb6c-331df38b9b5b"
      },
      "outputs": [
        {
          "data": {
            "text/plain": [
              "420 x 447 rating matrix of class ‘realRatingMatrix’ with 38341 ratings."
            ]
          },
          "metadata": {},
          "output_type": "display_data"
        }
      ],
      "source": [
        "movie_ratings <- ratingMatrix[rowCounts(ratingMatrix) > 50,\n",
        "                             colCounts(ratingMatrix) > 50]\n",
        "movie_ratings"
      ]
    },
    {
      "cell_type": "code",
      "execution_count": null,
      "metadata": {
        "colab": {
          "base_uri": "https://localhost:8080/",
          "height": 437
        },
        "id": "mfc5dXvr44Pu",
        "outputId": "2616a785-0866-4dd6-ed87-670e5c99708a"
      },
      "outputs": [
        {
          "data": {
            "image/png": "[encoded data removed]",
            "text/plain": [
              "plot without title"
            ]
          },
          "metadata": {
            "image/png": {
              "height": 420,
              "width": 420
            }
          },
          "output_type": "display_data"
        }
      ],
      "source": [
        "minimum_movies<- quantile(rowCounts(movie_ratings), 0.98)\n",
        "minimum_users <- quantile(colCounts(movie_ratings), 0.98)\n",
        "image(movie_ratings[rowCounts(movie_ratings) > minimum_movies,\n",
        "                     colCounts(movie_ratings) > minimum_users],\n",
        "main = \"Heatmap of the top users and movies\")"
      ]
    },
    {
      "cell_type": "markdown",
      "metadata": {
        "id": "pDYFeqS_dqJC"
      },
      "source": [
        " distribution of the average ratings per user.\n",
        " "
      ]
    },
    {
      "cell_type": "code",
      "execution_count": null,
      "metadata": {
        "colab": {
          "base_uri": "https://localhost:8080/",
          "height": 472
        },
        "id": "bqOIf9-v4-mv",
        "outputId": "3d1aedd5-c4bb-4a3a-9f75-a14dacd69f32"
      },
      "outputs": [
        {
          "name": "stderr",
          "output_type": "stream",
          "text": [
            "`stat_bin()` using `bins = 30`. Pick better value with `binwidth`.\n",
            "\n"
          ]
        },
        {
          "data": {
            "image/png": "[encoded data removed]",
            "text/plain": [
              "plot without title"
            ]
          },
          "metadata": {
            "image/png": {
              "height": 420,
              "width": 420
            }
          },
          "output_type": "display_data"
        }
      ],
      "source": [
        "average_ratings <- rowMeans(movie_ratings)\n",
        "qplot(average_ratings, fill=I(\"steelblue\"), col=I(\"red\")) +\n",
        "  ggtitle(\"Distribution of the average rating per user\")"
      ]
    },
    {
      "cell_type": "markdown",
      "metadata": {
        "id": "iq_KLw7jd2dV"
      },
      "source": [
        " there can be high ratings or low ratings provided to all of the watched films. This will act as a bias while implementing our model. In order to remove this, we normalize our data. Normalization is a data preparation procedure to standardize the numerical values in a column to a common scale value. This is done in such a way that there is no distortion in the range of values. Normalization transforms the average value of our ratings column to 0. We then plot a heatmap that delineates our normalized ratings."
      ]
    },
    {
      "cell_type": "code",
      "execution_count": null,
      "metadata": {
        "colab": {
          "base_uri": "https://localhost:8080/",
          "height": 454
        },
        "id": "BAq1K3X05Azf",
        "outputId": "4737d4ed-03d8-4003-dd34-b300cac3aa57"
      },
      "outputs": [
        {
          "data": {
            "text/html": [
              "0"
            ],
            "text/latex": "0",
            "text/markdown": "0",
            "text/plain": [
              "[1] 0"
            ]
          },
          "metadata": {},
          "output_type": "display_data"
        },
        {
          "data": {
            "image/png": "[encoded data removed]",
            "text/plain": [
              "plot without title"
            ]
          },
          "metadata": {
            "image/png": {
              "height": 420,
              "width": 420
            }
          },
          "output_type": "display_data"
        }
      ],
      "source": [
        "normalized_ratings <- normalize(movie_ratings)\n",
        "sum(rowMeans(normalized_ratings) > 0.00001)\n",
        "\n",
        "image(normalized_ratings[rowCounts(normalized_ratings) > minimum_movies,\n",
        "                          colCounts(normalized_ratings) > minimum_users],\n",
        "main = \"Normalized Ratings of the Top Users\")"
      ]
    },
    {
      "cell_type": "markdown",
      "metadata": {
        "id": "Cu6vX0Sgd7Dd"
      },
      "source": [
        "Binarizing the data means that we have two discrete values 1 and 0, which will allow our recommendation systems to work more efficiently. We will define a matrix that will consist of 1 if the rating is above 3 and otherwise it will be 0."
      ]
    },
    {
      "cell_type": "code",
      "execution_count": null,
      "metadata": {
        "colab": {
          "base_uri": "https://localhost:8080/",
          "height": 437
        },
        "id": "E7VrjJUF5C4u",
        "outputId": "06ec7199-7cc5-4ccf-bb93-f540859a6596"
      },
      "outputs": [
        {
          "data": {
            "image/png": "[encoded data removed]",
            "text/plain": [
              "plot without title"
            ]
          },
          "metadata": {
            "image/png": {
              "height": 420,
              "width": 420
            }
          },
          "output_type": "display_data"
        }
      ],
      "source": [
        "binary_minimum_movies <- quantile(rowCounts(movie_ratings), 0.95)\n",
        "binary_minimum_users <- quantile(colCounts(movie_ratings), 0.95)\n",
        "#movies_watched <- binarize(movie_ratings, minRating = 1)\n",
        "\n",
        "good_rated_films <- binarize(movie_ratings, minRating = 3)\n",
        "image(good_rated_films[rowCounts(movie_ratings) > binary_minimum_movies,\n",
        "colCounts(movie_ratings) > binary_minimum_users],\n",
        "main = \"Heatmap of the top users and movies\")"
      ]
    },
    {
      "cell_type": "markdown",
      "metadata": {
        "id": "Xi_eIuUdeEFD"
      },
      "source": [
        "collaborative filtering finds similarity in the items based on the people’s ratings of them. The algorithm first builds a similar-items table of the customers who have purchased them into a combination of similar items. This is then fed into the recommendation system.\n",
        "\n",
        "The similarity between single products and related products can be determined with the following algorithm –\n",
        "\n",
        "* For each Item i1 present in the product catalog, purchased by customer C.\n",
        "* And, for each item i2 also purchased by the customer C.\n",
        "* Create record that the customer purchased items i1 and i2.\n",
        "* Calculate the similarity between i1 and i2.\n",
        "\n",
        "We will build this filtering system by splitting the dataset into 80% training set and 20% test set."
      ]
    },
    {
      "cell_type": "code",
      "execution_count": null,
      "metadata": {
        "id": "94GW0XBE5Fdw"
      },
      "outputs": [],
      "source": [
        "sampled_data<- sample(x = c(TRUE, FALSE),\n",
        "                      size = nrow(movie_ratings),\n",
        "                      replace = TRUE,\n",
        "                      prob = c(0.8, 0.2))\n",
        "training_data <- movie_ratings[sampled_data, ]\n",
        "testing_data <- movie_ratings[!sampled_data, ]"
      ]
    },
    {
      "cell_type": "markdown",
      "metadata": {
        "id": "uwRBFkuqeOB7"
      },
      "source": [
        "# Building the Recommendation System"
      ]
    },
    {
      "cell_type": "code",
      "execution_count": null,
      "metadata": {
        "colab": {
          "base_uri": "https://localhost:8080/",
          "height": 253
        },
        "id": "iuKvxgGy5HcM",
        "outputId": "eacbc841-c36d-4b01-96f0-b2586889ce68"
      },
      "outputs": [
        {
          "data": {
            "text/html": [
              "<dl>\n",
              "\t<dt>$k</dt>\n",
              "\t\t<dd>30</dd>\n",
              "\t<dt>$method</dt>\n",
              "\t\t<dd>'Cosine'</dd>\n",
              "\t<dt>$normalize</dt>\n",
              "\t\t<dd>'center'</dd>\n",
              "\t<dt>$normalize_sim_matrix</dt>\n",
              "\t\t<dd>FALSE</dd>\n",
              "\t<dt>$alpha</dt>\n",
              "\t\t<dd>0.5</dd>\n",
              "\t<dt>$na_as_zero</dt>\n",
              "\t\t<dd>FALSE</dd>\n",
              "</dl>\n"
            ],
            "text/latex": "\\begin{description}\n\\item[\\$k] 30\n\\item[\\$method] 'Cosine'\n\\item[\\$normalize] 'center'\n\\item[\\$normalize\\_sim\\_matrix] FALSE\n\\item[\\$alpha] 0.5\n\\item[\\$na\\_as\\_zero] FALSE\n\\end{description}\n",
            "text/markdown": "$k\n:   30\n$method\n:   'Cosine'\n$normalize\n:   'center'\n$normalize_sim_matrix\n:   FALSE\n$alpha\n:   0.5\n$na_as_zero\n:   FALSE\n\n\n",
            "text/plain": [
              "$k\n",
              "[1] 30\n",
              "\n",
              "$method\n",
              "[1] \"Cosine\"\n",
              "\n",
              "$normalize\n",
              "[1] \"center\"\n",
              "\n",
              "$normalize_sim_matrix\n",
              "[1] FALSE\n",
              "\n",
              "$alpha\n",
              "[1] 0.5\n",
              "\n",
              "$na_as_zero\n",
              "[1] FALSE\n"
            ]
          },
          "metadata": {},
          "output_type": "display_data"
        }
      ],
      "source": [
        "recommendation_system <- recommenderRegistry$get_entries(dataType =\"realRatingMatrix\")\n",
        "recommendation_system$IBCF_realRatingMatrix$parameters"
      ]
    },
    {
      "cell_type": "markdown",
      "metadata": {
        "id": "-x6aY6AAeVCd"
      },
      "source": [
        "In the first step, k denotes the number of items for computing their similarities. Here, k is equal to 30. Therefore, the algorithm will now identify the k most similar items and store their number. We use the cosine method which is the default one but you can also use pearson method."
      ]
    },
    {
      "cell_type": "code",
      "execution_count": null,
      "metadata": {
        "colab": {
          "base_uri": "https://localhost:8080/",
          "height": 69
        },
        "id": "eLw7pZIW5JIQ",
        "outputId": "d07b9ad5-1a3d-4420-9477-f77d22464abb"
      },
      "outputs": [
        {
          "data": {
            "text/plain": [
              "Recommender of type ‘IBCF’ for ‘realRatingMatrix’ \n",
              "learned using 329 users."
            ]
          },
          "metadata": {},
          "output_type": "display_data"
        },
        {
          "data": {
            "text/html": [
              "'Recommender'"
            ],
            "text/latex": "'Recommender'",
            "text/markdown": "'Recommender'",
            "text/plain": [
              "[1] \"Recommender\"\n",
              "attr(,\"package\")\n",
              "[1] \"recommenderlab\""
            ]
          },
          "metadata": {},
          "output_type": "display_data"
        }
      ],
      "source": [
        "recommen_model <- Recommender(data = training_data,\n",
        "                          method = \"IBCF\",\n",
        "                          parameter = list(k = 30))\n",
        "recommen_model\n",
        "class(recommen_model)"
      ]
    },
    {
      "cell_type": "markdown",
      "metadata": {
        "id": "SzDTkb6reZ2q"
      },
      "source": [
        "Using the getModel() function, we will retrieve the recommen_model. We will then find the class and dimensions of our similarity matrix that is contained within model_info. Finally, we will generate a heatmap, that will contain the top 20 items and visualize the similarity shared between them"
      ]
    },
    {
      "cell_type": "markdown",
      "source": [],
      "metadata": {
        "id": "7JP8_IGOTph-"
      }
    },
    {
      "cell_type": "code",
      "execution_count": null,
      "metadata": {
        "colab": {
          "base_uri": "https://localhost:8080/",
          "height": 472
        },
        "id": "hApk_eZI5KxU",
        "outputId": "32c603a9-5e43-44d3-8e88-d402c197e806"
      },
      "outputs": [
        {
          "data": {
            "text/html": [
              "'dgCMatrix'"
            ],
            "text/latex": "'dgCMatrix'",
            "text/markdown": "'dgCMatrix'",
            "text/plain": [
              "[1] \"dgCMatrix\"\n",
              "attr(,\"package\")\n",
              "[1] \"Matrix\""
            ]
          },
          "metadata": {},
          "output_type": "display_data"
        },
        {
          "data": {
            "text/html": [
              "<style>\n",
              ".list-inline {list-style: none; margin:0; padding: 0}\n",
              ".list-inline>li {display: inline-block}\n",
              ".list-inline>li:not(:last-child)::after {content: \"\\00b7\"; padding: 0 .5ex}\n",
              "</style>\n",
              "<ol class=list-inline><li>447</li><li>447</li></ol>\n"
            ],
            "text/latex": "\\begin{enumerate*}\n\\item 447\n\\item 447\n\\end{enumerate*}\n",
            "text/markdown": "1. 447\n2. 447\n\n\n",
            "text/plain": [
              "[1] 447 447"
            ]
          },
          "metadata": {},
          "output_type": "display_data"
        },
        {
          "data": {
            "image/png": "[encoded data removed]",
            "text/plain": [
              "plot without title"
            ]
          },
          "metadata": {
            "image/png": {
              "height": 420,
              "width": 420
            }
          },
          "output_type": "display_data"
        }
      ],
      "source": [
        "model_info <- getModel(recommen_model)\n",
        "class(model_info$sim)\n",
        "dim(model_info$sim)\n",
        "top_items <- 20\n",
        "image(model_info$sim[1:top_items, 1:top_items],\n",
        "   main = \"Heatmap of the first rows and columns\")"
      ]
    },
    {
      "cell_type": "markdown",
      "metadata": {
        "id": "Lvs5IprsefaU"
      },
      "source": [
        "we will carry out the sum of rows and columns with the similarity of the objects above 0. "
      ]
    },
    {
      "cell_type": "code",
      "execution_count": null,
      "metadata": {
        "colab": {
          "base_uri": "https://localhost:8080/",
          "height": 524
        },
        "id": "DBZX-9i25NPA",
        "outputId": "d27ea429-00e7-48a8-e998-4172d55f7538"
      },
      "outputs": [
        {
          "data": {
            "text/plain": [
              "sum_rows\n",
              " 30 \n",
              "447 "
            ]
          },
          "metadata": {},
          "output_type": "display_data"
        },
        {
          "name": "stderr",
          "output_type": "stream",
          "text": [
            "`stat_bin()` using `bins = 30`. Pick better value with `binwidth`.\n",
            "\n"
          ]
        },
        {
          "data": {
            "image/png": "[encoded data removed]",
            "text/plain": [
              "plot without title"
            ]
          },
          "metadata": {
            "image/png": {
              "height": 420,
              "width": 420
            }
          },
          "output_type": "display_data"
        }
      ],
      "source": [
        "sum_rows <- rowSums(model_info$sim > 0)\n",
        "table(sum_rows)\n",
        "\n",
        "sum_cols <- colSums(model_info$sim > 0)\n",
        "qplot(sum_cols, fill=I(\"steelblue\"), col=I(\"red\"))+ ggtitle(\"Distribution of the column count\")"
      ]
    },
    {
      "cell_type": "markdown",
      "metadata": {
        "id": "4rYEsOs4eqr8"
      },
      "source": [
        "top_recommendations variable which will be initialized to 10, specifying the number of films to each user. We will then use the predict() function that will identify similar items and will rank them appropriately. Here, each rating is used as a weight. Each weight is multiplied with related similarities. Finally, everything is added in the end."
      ]
    },
    {
      "cell_type": "code",
      "execution_count": null,
      "metadata": {
        "id": "VX4ENwDUjx28"
      },
      "outputs": [],
      "source": []
    },
    {
      "cell_type": "code",
      "execution_count": null,
      "metadata": {
        "colab": {
          "base_uri": "https://localhost:8080/",
          "height": 34
        },
        "id": "ajCVXfcv5P6O",
        "outputId": "2ca75eb7-ee65-4706-a111-708252c84da8"
      },
      "outputs": [
        {
          "data": {
            "text/plain": [
              "Recommendations as ‘topNList’ with n = 10 for 91 users. "
            ]
          },
          "metadata": {},
          "output_type": "display_data"
        }
      ],
      "source": [
        "top_recommendations <- 10 # the number of items to recommend to each user\n",
        "predicted_recommendations <- predict(object = recommen_model,\n",
        "                          newdata = testing_data,\n",
        "                          n = top_recommendations)\n",
        "predicted_recommendations"
      ]
    },
    {
      "cell_type": "code",
      "execution_count": null,
      "metadata": {
        "colab": {
          "base_uri": "https://localhost:8080/",
          "height": 69
        },
        "id": "ypfWWLqZ5RkX",
        "outputId": "6ca509a8-8b6f-43b5-bb4f-92c58d519563"
      },
      "outputs": [
        {
          "data": {
            "text/html": [
              "<style>\n",
              ".list-inline {list-style: none; margin:0; padding: 0}\n",
              ".list-inline>li {display: inline-block}\n",
              ".list-inline>li:not(:last-child)::after {content: \"\\00b7\"; padding: 0 .5ex}\n",
              "</style>\n",
              "<ol class=list-inline><li>'Toy Story (1995)'</li><li>'Casino (1995)'</li><li>'Twelve Monkeys (a.k.a. 12 Monkeys) (1995)'</li><li>'Dr. Strangelove or: How I Learned to Stop Worrying and Love the Bomb (1964)'</li><li>'Trainspotting (1996)'</li><li>'Vertigo (1958)'</li><li>'North by Northwest (1959)'</li><li>'Casablanca (1942)'</li><li>'Fish Called Wanda, A (1988)'</li><li>'Reservoir Dogs (1992)'</li></ol>\n"
            ],
            "text/latex": "\\begin{enumerate*}\n\\item 'Toy Story (1995)'\n\\item 'Casino (1995)'\n\\item 'Twelve Monkeys (a.k.a. 12 Monkeys) (1995)'\n\\item 'Dr. Strangelove or: How I Learned to Stop Worrying and Love the Bomb (1964)'\n\\item 'Trainspotting (1996)'\n\\item 'Vertigo (1958)'\n\\item 'North by Northwest (1959)'\n\\item 'Casablanca (1942)'\n\\item 'Fish Called Wanda, A (1988)'\n\\item 'Reservoir Dogs (1992)'\n\\end{enumerate*}\n",
            "text/markdown": "1. 'Toy Story (1995)'\n2. 'Casino (1995)'\n3. 'Twelve Monkeys (a.k.a. 12 Monkeys) (1995)'\n4. 'Dr. Strangelove or: How I Learned to Stop Worrying and Love the Bomb (1964)'\n5. 'Trainspotting (1996)'\n6. 'Vertigo (1958)'\n7. 'North by Northwest (1959)'\n8. 'Casablanca (1942)'\n9. 'Fish Called Wanda, A (1988)'\n10. 'Reservoir Dogs (1992)'\n\n\n",
            "text/plain": [
              " [1] \"Toy Story (1995)\"                                                           \n",
              " [2] \"Casino (1995)\"                                                              \n",
              " [3] \"Twelve Monkeys (a.k.a. 12 Monkeys) (1995)\"                                  \n",
              " [4] \"Dr. Strangelove or: How I Learned to Stop Worrying and Love the Bomb (1964)\"\n",
              " [5] \"Trainspotting (1996)\"                                                       \n",
              " [6] \"Vertigo (1958)\"                                                             \n",
              " [7] \"North by Northwest (1959)\"                                                  \n",
              " [8] \"Casablanca (1942)\"                                                          \n",
              " [9] \"Fish Called Wanda, A (1988)\"                                                \n",
              "[10] \"Reservoir Dogs (1992)\"                                                      "
            ]
          },
          "metadata": {},
          "output_type": "display_data"
        }
      ],
      "source": [
        "user1 <- predicted_recommendations@items[[1]] # recommendation for the first user\n",
        "movies_user1 <- predicted_recommendations@itemLabels[user1]\n",
        "movies_user2 <- movies_user1\n",
        "for (index in 1:10){\n",
        "  movies_user2[index] <- as.character(subset(movie_data,\n",
        "                                         movie_data$movieId == movies_user1[index])$title)\n",
        "}\n",
        "movies_user2"
      ]
    },
    {
      "cell_type": "code",
      "source": [],
      "metadata": {
        "id": "LPYJDXQnT3BL"
      },
      "execution_count": null,
      "outputs": []
    },
    {
      "cell_type": "code",
      "execution_count": null,
      "metadata": {
        "colab": {
          "base_uri": "https://localhost:8080/",
          "height": 348
        },
        "id": "q1K9Xkka5ToU",
        "outputId": "22c21cb6-b37c-4660-fbea-eb8b58883d4c"
      },
      "outputs": [
        {
          "data": {
            "text/html": [
              "<table class=\"dataframe\">\n",
              "<caption>A matrix: 10 × 4 of type int</caption>\n",
              "<tbody>\n",
              "\t<tr><td>   1</td><td>  39</td><td>1639</td><td>    6</td></tr>\n",
              "\t<tr><td>  16</td><td> 158</td><td>5418</td><td> 2804</td></tr>\n",
              "\t<tr><td>  32</td><td> 235</td><td>2329</td><td> 4995</td></tr>\n",
              "\t<tr><td> 750</td><td> 292</td><td> 457</td><td>48394</td></tr>\n",
              "\t<tr><td> 778</td><td> 357</td><td> 364</td><td> 1097</td></tr>\n",
              "\t<tr><td> 903</td><td> 364</td><td>1729</td><td>  596</td></tr>\n",
              "\t<tr><td> 908</td><td> 440</td><td> 110</td><td> 1307</td></tr>\n",
              "\t<tr><td> 912</td><td> 708</td><td>5989</td><td> 3996</td></tr>\n",
              "\t<tr><td>1079</td><td> 724</td><td> 161</td><td> 1704</td></tr>\n",
              "\t<tr><td>1089</td><td>1028</td><td>1221</td><td> 1682</td></tr>\n",
              "</tbody>\n",
              "</table>\n"
            ],
            "text/latex": "A matrix: 10 × 4 of type int\n\\begin{tabular}{llll}\n\t    1 &   39 & 1639 &     6\\\\\n\t   16 &  158 & 5418 &  2804\\\\\n\t   32 &  235 & 2329 &  4995\\\\\n\t  750 &  292 &  457 & 48394\\\\\n\t  778 &  357 &  364 &  1097\\\\\n\t  903 &  364 & 1729 &   596\\\\\n\t  908 &  440 &  110 &  1307\\\\\n\t  912 &  708 & 5989 &  3996\\\\\n\t 1079 &  724 &  161 &  1704\\\\\n\t 1089 & 1028 & 1221 &  1682\\\\\n\\end{tabular}\n",
            "text/markdown": "\nA matrix: 10 × 4 of type int\n\n|    1 |   39 | 1639 |     6 |\n|   16 |  158 | 5418 |  2804 |\n|   32 |  235 | 2329 |  4995 |\n|  750 |  292 |  457 | 48394 |\n|  778 |  357 |  364 |  1097 |\n|  903 |  364 | 1729 |   596 |\n|  908 |  440 |  110 |  1307 |\n|  912 |  708 | 5989 |  3996 |\n| 1079 |  724 |  161 |  1704 |\n| 1089 | 1028 | 1221 |  1682 |\n\n",
            "text/plain": [
              "      [,1] [,2] [,3] [,4] \n",
              " [1,]    1   39 1639     6\n",
              " [2,]   16  158 5418  2804\n",
              " [3,]   32  235 2329  4995\n",
              " [4,]  750  292  457 48394\n",
              " [5,]  778  357  364  1097\n",
              " [6,]  903  364 1729   596\n",
              " [7,]  908  440  110  1307\n",
              " [8,]  912  708 5989  3996\n",
              " [9,] 1079  724  161  1704\n",
              "[10,] 1089 1028 1221  1682"
            ]
          },
          "metadata": {},
          "output_type": "display_data"
        }
      ],
      "source": [
        "recommendation_matrix <- sapply(predicted_recommendations@items,\n",
        "                      function(x){ as.integer(colnames(movie_ratings)[x]) }) # matrix with the recommendations for each user\n",
        "#dim(recc_matrix)\n",
        "recommendation_matrix[,1:4]"
      ]
    }
  ],
  "metadata": {
    "colab": {
      "provenance": []
    },
    "kernelspec": {
      "display_name": "R",
      "name": "ir"
    },
    "language_info": {
      "name": "R"
    }
  },
  "nbformat": 4,
  "nbformat_minor": 0
}